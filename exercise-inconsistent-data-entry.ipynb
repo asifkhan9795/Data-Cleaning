{
 "cells": [
  {
   "cell_type": "markdown",
   "id": "68fb0447",
   "metadata": {
    "papermill": {
     "duration": 0.005413,
     "end_time": "2024-07-03T04:50:49.515396",
     "exception": false,
     "start_time": "2024-07-03T04:50:49.509983",
     "status": "completed"
    },
    "tags": []
   },
   "source": [
    "**This notebook is an exercise in the [Data Cleaning](https://www.kaggle.com/learn/data-cleaning) course.  You can reference the tutorial at [this link](https://www.kaggle.com/alexisbcook/inconsistent-data-entry).**\n",
    "\n",
    "---\n"
   ]
  },
  {
   "cell_type": "markdown",
   "id": "c921cbb2",
   "metadata": {
    "papermill": {
     "duration": 0.004837,
     "end_time": "2024-07-03T04:50:49.525395",
     "exception": false,
     "start_time": "2024-07-03T04:50:49.520558",
     "status": "completed"
    },
    "tags": []
   },
   "source": [
    "In this exercise, you'll apply what you learned in the **Inconsistent data entry** tutorial.\n",
    "\n",
    "# Setup\n",
    "\n",
    "The questions below will give you feedback on your work. Run the following cell to set up the feedback system."
   ]
  },
  {
   "cell_type": "code",
   "execution_count": 1,
   "id": "29c6a29a",
   "metadata": {
    "execution": {
     "iopub.execute_input": "2024-07-03T04:50:49.537860Z",
     "iopub.status.busy": "2024-07-03T04:50:49.537423Z",
     "iopub.status.idle": "2024-07-03T04:50:50.608791Z",
     "shell.execute_reply": "2024-07-03T04:50:50.607446Z"
    },
    "papermill": {
     "duration": 1.080755,
     "end_time": "2024-07-03T04:50:50.611806",
     "exception": false,
     "start_time": "2024-07-03T04:50:49.531051",
     "status": "completed"
    },
    "tags": []
   },
   "outputs": [
    {
     "name": "stdout",
     "output_type": "stream",
     "text": [
      "Setup Complete\n"
     ]
    },
    {
     "name": "stderr",
     "output_type": "stream",
     "text": [
      "/opt/conda/lib/python3.10/site-packages/fuzzywuzzy/fuzz.py:11: UserWarning: Using slow pure-python SequenceMatcher. Install python-Levenshtein to remove this warning\n",
      "  warnings.warn('Using slow pure-python SequenceMatcher. Install python-Levenshtein to remove this warning')\n"
     ]
    }
   ],
   "source": [
    "from learntools.core import binder\n",
    "binder.bind(globals())\n",
    "from learntools.data_cleaning.ex5 import *\n",
    "print(\"Setup Complete\")"
   ]
  },
  {
   "cell_type": "markdown",
   "id": "e2d1aaa6",
   "metadata": {
    "papermill": {
     "duration": 0.004899,
     "end_time": "2024-07-03T04:50:50.621933",
     "exception": false,
     "start_time": "2024-07-03T04:50:50.617034",
     "status": "completed"
    },
    "tags": []
   },
   "source": [
    "# Get our environment set up\n",
    "\n",
    "The first thing we'll need to do is load in the libraries and dataset we'll be using.  We use the same dataset from the tutorial."
   ]
  },
  {
   "cell_type": "code",
   "execution_count": 2,
   "id": "67bfe046",
   "metadata": {
    "execution": {
     "iopub.execute_input": "2024-07-03T04:50:50.633807Z",
     "iopub.status.busy": "2024-07-03T04:50:50.633410Z",
     "iopub.status.idle": "2024-07-03T04:50:50.649337Z",
     "shell.execute_reply": "2024-07-03T04:50:50.648139Z"
    },
    "papermill": {
     "duration": 0.024985,
     "end_time": "2024-07-03T04:50:50.651979",
     "exception": false,
     "start_time": "2024-07-03T04:50:50.626994",
     "status": "completed"
    },
    "tags": []
   },
   "outputs": [],
   "source": [
    "# modules we'll use\n",
    "import pandas as pd\n",
    "import numpy as np\n",
    "\n",
    "# helpful modules\n",
    "import fuzzywuzzy\n",
    "from fuzzywuzzy import process\n",
    "import charset_normalizer\n",
    "\n",
    "# read in all our data\n",
    "professors = pd.read_csv(\"../input/pakistan-intellectual-capital/pakistan_intellectual_capital.csv\")\n",
    "\n",
    "# set seed for reproducibility\n",
    "np.random.seed(0)"
   ]
  },
  {
   "cell_type": "markdown",
   "id": "dd50303b",
   "metadata": {
    "papermill": {
     "duration": 0.004923,
     "end_time": "2024-07-03T04:50:50.662114",
     "exception": false,
     "start_time": "2024-07-03T04:50:50.657191",
     "status": "completed"
    },
    "tags": []
   },
   "source": [
    "Next, we'll redo all of the work that we did in the tutorial."
   ]
  },
  {
   "cell_type": "code",
   "execution_count": 3,
   "id": "9f63091a",
   "metadata": {
    "execution": {
     "iopub.execute_input": "2024-07-03T04:50:50.673962Z",
     "iopub.status.busy": "2024-07-03T04:50:50.673531Z",
     "iopub.status.idle": "2024-07-03T04:50:50.691716Z",
     "shell.execute_reply": "2024-07-03T04:50:50.690452Z"
    },
    "papermill": {
     "duration": 0.027151,
     "end_time": "2024-07-03T04:50:50.694323",
     "exception": false,
     "start_time": "2024-07-03T04:50:50.667172",
     "status": "completed"
    },
    "tags": []
   },
   "outputs": [
    {
     "name": "stdout",
     "output_type": "stream",
     "text": [
      "All done!\n"
     ]
    }
   ],
   "source": [
    "# convert to lower case\n",
    "professors['Country'] = professors['Country'].str.lower()\n",
    "# remove trailing white spaces\n",
    "professors['Country'] = professors['Country'].str.strip()\n",
    "\n",
    "# get the top 10 closest matches to \"south korea\"\n",
    "countries = professors['Country'].unique()\n",
    "matches = fuzzywuzzy.process.extract(\"south korea\", countries, limit=10, scorer=fuzzywuzzy.fuzz.token_sort_ratio)\n",
    "\n",
    "def replace_matches_in_column(df, column, string_to_match, min_ratio = 47):\n",
    "    # get a list of unique strings\n",
    "    strings = df[column].unique()\n",
    "    \n",
    "    # get the top 10 closest matches to our input string\n",
    "    matches = fuzzywuzzy.process.extract(string_to_match, strings, \n",
    "                                         limit=10, scorer=fuzzywuzzy.fuzz.token_sort_ratio)\n",
    "\n",
    "    # only get matches with a ratio > 90\n",
    "    close_matches = [matches[0] for matches in matches if matches[1] >= min_ratio]\n",
    "\n",
    "    # get the rows of all the close matches in our dataframe\n",
    "    rows_with_matches = df[column].isin(close_matches)\n",
    "\n",
    "    # replace all rows with close matches with the input matches \n",
    "    df.loc[rows_with_matches, column] = string_to_match\n",
    "    \n",
    "    # let us know the function's done\n",
    "    print(\"All done!\")\n",
    "    \n",
    "replace_matches_in_column(df=professors, column='Country', string_to_match=\"south korea\")\n",
    "countries = professors['Country'].unique()"
   ]
  },
  {
   "cell_type": "markdown",
   "id": "ad049526",
   "metadata": {
    "papermill": {
     "duration": 0.005018,
     "end_time": "2024-07-03T04:50:50.704752",
     "exception": false,
     "start_time": "2024-07-03T04:50:50.699734",
     "status": "completed"
    },
    "tags": []
   },
   "source": [
    "# 1) Examine another column\n",
    "\n",
    "Write code below to take a look at all the unique values in the \"Graduated from\" column."
   ]
  },
  {
   "cell_type": "code",
   "execution_count": 4,
   "id": "03e82762",
   "metadata": {
    "execution": {
     "iopub.execute_input": "2024-07-03T04:50:50.717776Z",
     "iopub.status.busy": "2024-07-03T04:50:50.717359Z",
     "iopub.status.idle": "2024-07-03T04:50:50.722144Z",
     "shell.execute_reply": "2024-07-03T04:50:50.720868Z"
    },
    "papermill": {
     "duration": 0.014435,
     "end_time": "2024-07-03T04:50:50.724453",
     "exception": false,
     "start_time": "2024-07-03T04:50:50.710018",
     "status": "completed"
    },
    "tags": []
   },
   "outputs": [],
   "source": [
    "# TODO: Your code here"
   ]
  },
  {
   "cell_type": "markdown",
   "id": "5107200b",
   "metadata": {
    "papermill": {
     "duration": 0.004955,
     "end_time": "2024-07-03T04:50:50.734750",
     "exception": false,
     "start_time": "2024-07-03T04:50:50.729795",
     "status": "completed"
    },
    "tags": []
   },
   "source": [
    "Do you notice any inconsistencies in the data?  Can any of the inconsistencies in the data be fixed by removing white spaces at the beginning and end of cells?\n",
    "\n",
    "Once you have answered these questions, run the code cell below to get credit for your work."
   ]
  },
  {
   "cell_type": "code",
   "execution_count": 5,
   "id": "f8670b9a",
   "metadata": {
    "execution": {
     "iopub.execute_input": "2024-07-03T04:50:50.747355Z",
     "iopub.status.busy": "2024-07-03T04:50:50.746994Z",
     "iopub.status.idle": "2024-07-03T04:50:50.757356Z",
     "shell.execute_reply": "2024-07-03T04:50:50.756166Z"
    },
    "papermill": {
     "duration": 0.019736,
     "end_time": "2024-07-03T04:50:50.759811",
     "exception": false,
     "start_time": "2024-07-03T04:50:50.740075",
     "status": "completed"
    },
    "tags": []
   },
   "outputs": [
    {
     "data": {
      "application/javascript": [
       "parent.postMessage({\"jupyterEvent\": \"custom.exercise_interaction\", \"data\": {\"outcomeType\": 1, \"valueTowardsCompletion\": 0.3333333333333333, \"interactionType\": 1, \"questionType\": 4, \"questionId\": \"1_ExamineProvince\", \"learnToolsVersion\": \"0.3.4\", \"failureMessage\": \"\", \"exceptionClass\": \"\", \"trace\": \"\"}}, \"*\")"
      ],
      "text/plain": [
       "<IPython.core.display.Javascript object>"
      ]
     },
     "metadata": {},
     "output_type": "display_data"
    },
    {
     "data": {
      "text/markdown": [
       "<span style=\"color:#33cc33\">Correct:</span> \n",
       "\n",
       "There are inconsistencies that can be fixed by removing white spaces at the beginning and end of cells.  For instance, \"University of Central Florida\" and \" University of Central Florida\" both appear in the column."
      ],
      "text/plain": [
       "Correct: \n",
       "\n",
       "There are inconsistencies that can be fixed by removing white spaces at the beginning and end of cells.  For instance, \"University of Central Florida\" and \" University of Central Florida\" both appear in the column."
      ]
     },
     "metadata": {},
     "output_type": "display_data"
    }
   ],
   "source": [
    "# Check your answer (Run this code cell to receive credit!)\n",
    "q1.check()"
   ]
  },
  {
   "cell_type": "code",
   "execution_count": 6,
   "id": "c44bdd32",
   "metadata": {
    "execution": {
     "iopub.execute_input": "2024-07-03T04:50:50.773206Z",
     "iopub.status.busy": "2024-07-03T04:50:50.772768Z",
     "iopub.status.idle": "2024-07-03T04:50:50.777692Z",
     "shell.execute_reply": "2024-07-03T04:50:50.776487Z"
    },
    "papermill": {
     "duration": 0.014625,
     "end_time": "2024-07-03T04:50:50.780072",
     "exception": false,
     "start_time": "2024-07-03T04:50:50.765447",
     "status": "completed"
    },
    "tags": []
   },
   "outputs": [],
   "source": [
    "# Line below will give you a hint\n",
    "#q1.hint()"
   ]
  },
  {
   "cell_type": "markdown",
   "id": "983fd1a2",
   "metadata": {
    "papermill": {
     "duration": 0.005196,
     "end_time": "2024-07-03T04:50:50.790875",
     "exception": false,
     "start_time": "2024-07-03T04:50:50.785679",
     "status": "completed"
    },
    "tags": []
   },
   "source": [
    "# 2) Do some text pre-processing\n",
    "\n",
    "Convert every entry in the \"Graduated from\" column in the `professors` DataFrame to remove white spaces at the beginning and end of cells."
   ]
  },
  {
   "cell_type": "code",
   "execution_count": 7,
   "id": "74abd944",
   "metadata": {
    "execution": {
     "iopub.execute_input": "2024-07-03T04:50:50.803535Z",
     "iopub.status.busy": "2024-07-03T04:50:50.803130Z",
     "iopub.status.idle": "2024-07-03T04:50:50.814774Z",
     "shell.execute_reply": "2024-07-03T04:50:50.813531Z"
    },
    "papermill": {
     "duration": 0.020823,
     "end_time": "2024-07-03T04:50:50.817124",
     "exception": false,
     "start_time": "2024-07-03T04:50:50.796301",
     "status": "completed"
    },
    "tags": []
   },
   "outputs": [
    {
     "data": {
      "application/javascript": [
       "parent.postMessage({\"jupyterEvent\": \"custom.exercise_interaction\", \"data\": {\"outcomeType\": 1, \"valueTowardsCompletion\": 0.3333333333333333, \"interactionType\": 1, \"questionType\": 1, \"questionId\": \"2_TextProcessing\", \"learnToolsVersion\": \"0.3.4\", \"failureMessage\": \"\", \"exceptionClass\": \"\", \"trace\": \"\"}}, \"*\")"
      ],
      "text/plain": [
       "<IPython.core.display.Javascript object>"
      ]
     },
     "metadata": {},
     "output_type": "display_data"
    },
    {
     "data": {
      "text/markdown": [
       "<span style=\"color:#33cc33\">Correct</span>"
      ],
      "text/plain": [
       "Correct"
      ]
     },
     "metadata": {},
     "output_type": "display_data"
    }
   ],
   "source": [
    "# TODO: Your code here\n",
    "professors['Graduated from'] = professors['Graduated from'].str.strip()\n",
    "\n",
    "# Check your answer\n",
    "q2.check()"
   ]
  },
  {
   "cell_type": "code",
   "execution_count": 8,
   "id": "3eb76743",
   "metadata": {
    "execution": {
     "iopub.execute_input": "2024-07-03T04:50:50.831099Z",
     "iopub.status.busy": "2024-07-03T04:50:50.830691Z",
     "iopub.status.idle": "2024-07-03T04:50:50.835810Z",
     "shell.execute_reply": "2024-07-03T04:50:50.834660Z"
    },
    "papermill": {
     "duration": 0.014806,
     "end_time": "2024-07-03T04:50:50.838230",
     "exception": false,
     "start_time": "2024-07-03T04:50:50.823424",
     "status": "completed"
    },
    "tags": []
   },
   "outputs": [],
   "source": [
    "# Lines below will give you a hint or solution code\n",
    "#q2.hint()\n",
    "#q2.solution()"
   ]
  },
  {
   "cell_type": "markdown",
   "id": "02d023ae",
   "metadata": {
    "papermill": {
     "duration": 0.005458,
     "end_time": "2024-07-03T04:50:50.849516",
     "exception": false,
     "start_time": "2024-07-03T04:50:50.844058",
     "status": "completed"
    },
    "tags": []
   },
   "source": [
    "# 3) Continue working with countries\n",
    "\n",
    "In the tutorial, we focused on cleaning up inconsistencies in the \"Country\" column.  Run the code cell below to view the list of unique values that we ended with."
   ]
  },
  {
   "cell_type": "code",
   "execution_count": 9,
   "id": "61b2d5b8",
   "metadata": {
    "execution": {
     "iopub.execute_input": "2024-07-03T04:50:50.863365Z",
     "iopub.status.busy": "2024-07-03T04:50:50.862993Z",
     "iopub.status.idle": "2024-07-03T04:50:50.871543Z",
     "shell.execute_reply": "2024-07-03T04:50:50.870332Z"
    },
    "papermill": {
     "duration": 0.019196,
     "end_time": "2024-07-03T04:50:50.874473",
     "exception": false,
     "start_time": "2024-07-03T04:50:50.855277",
     "status": "completed"
    },
    "tags": []
   },
   "outputs": [
    {
     "data": {
      "text/plain": [
       "array(['australia', 'austria', 'canada', 'china', 'finland', 'france',\n",
       "       'germany', 'greece', 'hongkong', 'ireland', 'italy', 'japan',\n",
       "       'macau', 'malaysia', 'mauritius', 'netherland', 'new zealand',\n",
       "       'norway', 'pakistan', 'portugal', 'russian federation',\n",
       "       'saudi arabia', 'scotland', 'singapore', 'south korea', 'spain',\n",
       "       'sweden', 'thailand', 'turkey', 'uk', 'urbana', 'usa', 'usofa'],\n",
       "      dtype=object)"
      ]
     },
     "execution_count": 9,
     "metadata": {},
     "output_type": "execute_result"
    }
   ],
   "source": [
    "# get all the unique values in the 'City' column\n",
    "countries = professors['Country'].unique()\n",
    "\n",
    "# sort them alphabetically and then take a closer look\n",
    "countries.sort()\n",
    "countries"
   ]
  },
  {
   "cell_type": "markdown",
   "id": "692ec80c",
   "metadata": {
    "papermill": {
     "duration": 0.006205,
     "end_time": "2024-07-03T04:50:50.887078",
     "exception": false,
     "start_time": "2024-07-03T04:50:50.880873",
     "status": "completed"
    },
    "tags": []
   },
   "source": [
    "Take another look at the \"Country\" column and see if there's any more data cleaning we need to do.\n",
    "\n",
    "It looks like 'usa' and 'usofa' should be the same country.  Correct the \"Country\" column in the dataframe to replace 'usofa' with 'usa'.\n",
    "\n",
    "**Use the most recent version of the DataFrame (with the whitespaces at the beginning and end of cells removed) from question 2.**"
   ]
  },
  {
   "cell_type": "code",
   "execution_count": 10,
   "id": "24f11c82",
   "metadata": {
    "execution": {
     "iopub.execute_input": "2024-07-03T04:50:50.902154Z",
     "iopub.status.busy": "2024-07-03T04:50:50.901751Z",
     "iopub.status.idle": "2024-07-03T04:50:50.917385Z",
     "shell.execute_reply": "2024-07-03T04:50:50.916099Z"
    },
    "papermill": {
     "duration": 0.026786,
     "end_time": "2024-07-03T04:50:50.920295",
     "exception": false,
     "start_time": "2024-07-03T04:50:50.893509",
     "status": "completed"
    },
    "tags": []
   },
   "outputs": [
    {
     "name": "stdout",
     "output_type": "stream",
     "text": [
      "All done!\n"
     ]
    },
    {
     "data": {
      "application/javascript": [
       "parent.postMessage({\"jupyterEvent\": \"custom.exercise_interaction\", \"data\": {\"outcomeType\": 1, \"valueTowardsCompletion\": 0.3333333333333333, \"interactionType\": 1, \"questionType\": 1, \"questionId\": \"3_WorkingWithCities\", \"learnToolsVersion\": \"0.3.4\", \"failureMessage\": \"\", \"exceptionClass\": \"\", \"trace\": \"\"}}, \"*\")"
      ],
      "text/plain": [
       "<IPython.core.display.Javascript object>"
      ]
     },
     "metadata": {},
     "output_type": "display_data"
    },
    {
     "data": {
      "text/markdown": [
       "<span style=\"color:#33cc33\">Correct</span>"
      ],
      "text/plain": [
       "Correct"
      ]
     },
     "metadata": {},
     "output_type": "display_data"
    }
   ],
   "source": [
    "# TODO: Your code here!\n",
    "matches = fuzzywuzzy.process.extract(\"usa\", countries, limit=10, scorer=fuzzywuzzy.fuzz.token_sort_ratio)\n",
    "replace_matches_in_column(df=professors, column='Country', string_to_match=\"usa\", min_ratio=70)\n",
    "\n",
    "# Check your answer\n",
    "q3.check()"
   ]
  },
  {
   "cell_type": "code",
   "execution_count": 11,
   "id": "44362981",
   "metadata": {
    "execution": {
     "iopub.execute_input": "2024-07-03T04:50:50.935622Z",
     "iopub.status.busy": "2024-07-03T04:50:50.935190Z",
     "iopub.status.idle": "2024-07-03T04:50:50.939998Z",
     "shell.execute_reply": "2024-07-03T04:50:50.938905Z"
    },
    "papermill": {
     "duration": 0.015531,
     "end_time": "2024-07-03T04:50:50.942393",
     "exception": false,
     "start_time": "2024-07-03T04:50:50.926862",
     "status": "completed"
    },
    "tags": []
   },
   "outputs": [],
   "source": [
    "# Lines below will give you a hint or solution code\n",
    "#q3.hint()\n",
    "#q3.solution()"
   ]
  },
  {
   "cell_type": "markdown",
   "id": "63f6bf51",
   "metadata": {
    "papermill": {
     "duration": 0.006473,
     "end_time": "2024-07-03T04:50:50.955194",
     "exception": false,
     "start_time": "2024-07-03T04:50:50.948721",
     "status": "completed"
    },
    "tags": []
   },
   "source": [
    "# Congratulations!\n",
    "\n",
    "Congratulations for completing the **Data Cleaning** course on Kaggle Learn!\n",
    "\n",
    "To practice your new skills, you're encouraged to download and investigate some of [Kaggle's Datasets](https://www.kaggle.com/datasets)."
   ]
  },
  {
   "cell_type": "markdown",
   "id": "ab34cd10",
   "metadata": {
    "papermill": {
     "duration": 0.006101,
     "end_time": "2024-07-03T04:50:50.967499",
     "exception": false,
     "start_time": "2024-07-03T04:50:50.961398",
     "status": "completed"
    },
    "tags": []
   },
   "source": [
    "---\n",
    "\n",
    "\n",
    "\n",
    "\n",
    "*Have questions or comments? Visit the [course discussion forum](https://www.kaggle.com/learn/data-cleaning/discussion) to chat with other learners.*"
   ]
  }
 ],
 "metadata": {
  "kaggle": {
   "accelerator": "none",
   "dataSources": [
    {
     "datasetId": 819513,
     "sourceId": 1402182,
     "sourceType": "datasetVersion"
    }
   ],
   "isGpuEnabled": false,
   "isInternetEnabled": false,
   "language": "python",
   "sourceType": "notebook"
  },
  "kernelspec": {
   "display_name": "Python 3",
   "language": "python",
   "name": "python3"
  },
  "language_info": {
   "codemirror_mode": {
    "name": "ipython",
    "version": 3
   },
   "file_extension": ".py",
   "mimetype": "text/x-python",
   "name": "python",
   "nbconvert_exporter": "python",
   "pygments_lexer": "ipython3",
   "version": "3.10.13"
  },
  "papermill": {
   "default_parameters": {},
   "duration": 5.295353,
   "end_time": "2024-07-03T04:50:51.496386",
   "environment_variables": {},
   "exception": null,
   "input_path": "__notebook__.ipynb",
   "output_path": "__notebook__.ipynb",
   "parameters": {},
   "start_time": "2024-07-03T04:50:46.201033",
   "version": "2.5.0"
  }
 },
 "nbformat": 4,
 "nbformat_minor": 5
}
