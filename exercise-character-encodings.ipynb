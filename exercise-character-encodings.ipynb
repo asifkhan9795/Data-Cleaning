{
 "cells": [
  {
   "cell_type": "markdown",
   "id": "d1888b9a",
   "metadata": {
    "papermill": {
     "duration": 0.005262,
     "end_time": "2024-07-02T16:58:39.564164",
     "exception": false,
     "start_time": "2024-07-02T16:58:39.558902",
     "status": "completed"
    },
    "tags": []
   },
   "source": [
    "**This notebook is an exercise in the [Data Cleaning](https://www.kaggle.com/learn/data-cleaning) course.  You can reference the tutorial at [this link](https://www.kaggle.com/alexisbcook/character-encodings).**\n",
    "\n",
    "---\n"
   ]
  },
  {
   "cell_type": "markdown",
   "id": "2b33d5c3",
   "metadata": {
    "papermill": {
     "duration": 0.004436,
     "end_time": "2024-07-02T16:58:39.573595",
     "exception": false,
     "start_time": "2024-07-02T16:58:39.569159",
     "status": "completed"
    },
    "tags": []
   },
   "source": [
    "In this exercise, you'll apply what you learned in the **Character encodings** tutorial.\n",
    "\n",
    "# Setup\n",
    "\n",
    "The questions below will give you feedback on your work. Run the following cell to set up the feedback system."
   ]
  },
  {
   "cell_type": "code",
   "execution_count": 1,
   "id": "b4a84a27",
   "metadata": {
    "execution": {
     "iopub.execute_input": "2024-07-02T16:58:39.584290Z",
     "iopub.status.busy": "2024-07-02T16:58:39.583909Z",
     "iopub.status.idle": "2024-07-02T16:58:40.679729Z",
     "shell.execute_reply": "2024-07-02T16:58:40.678615Z"
    },
    "papermill": {
     "duration": 1.10396,
     "end_time": "2024-07-02T16:58:40.682147",
     "exception": false,
     "start_time": "2024-07-02T16:58:39.578187",
     "status": "completed"
    },
    "tags": []
   },
   "outputs": [
    {
     "name": "stdout",
     "output_type": "stream",
     "text": [
      "Setup Complete\n"
     ]
    }
   ],
   "source": [
    "from learntools.core import binder\n",
    "binder.bind(globals())\n",
    "from learntools.data_cleaning.ex4 import *\n",
    "print(\"Setup Complete\")"
   ]
  },
  {
   "cell_type": "markdown",
   "id": "7fe2e254",
   "metadata": {
    "papermill": {
     "duration": 0.004793,
     "end_time": "2024-07-02T16:58:40.691713",
     "exception": false,
     "start_time": "2024-07-02T16:58:40.686920",
     "status": "completed"
    },
    "tags": []
   },
   "source": [
    "# Get our environment set up\n",
    "\n",
    "The first thing we'll need to do is load in the libraries we'll be using."
   ]
  },
  {
   "cell_type": "code",
   "execution_count": 2,
   "id": "d0353098",
   "metadata": {
    "execution": {
     "iopub.execute_input": "2024-07-02T16:58:40.702758Z",
     "iopub.status.busy": "2024-07-02T16:58:40.702382Z",
     "iopub.status.idle": "2024-07-02T16:58:40.707816Z",
     "shell.execute_reply": "2024-07-02T16:58:40.706650Z"
    },
    "papermill": {
     "duration": 0.013653,
     "end_time": "2024-07-02T16:58:40.710064",
     "exception": false,
     "start_time": "2024-07-02T16:58:40.696411",
     "status": "completed"
    },
    "tags": []
   },
   "outputs": [],
   "source": [
    "# modules we'll use\n",
    "import pandas as pd\n",
    "import numpy as np\n",
    "\n",
    "# helpful character encoding module\n",
    "import charset_normalizer\n",
    "\n",
    "# set seed for reproducibility\n",
    "np.random.seed(0)"
   ]
  },
  {
   "cell_type": "markdown",
   "id": "1a506b1b",
   "metadata": {
    "papermill": {
     "duration": 0.004391,
     "end_time": "2024-07-02T16:58:40.719324",
     "exception": false,
     "start_time": "2024-07-02T16:58:40.714933",
     "status": "completed"
    },
    "tags": []
   },
   "source": [
    "# 1) What are encodings?\n",
    "\n",
    "You're working with a dataset composed of bytes.  Run the code cell below to print a sample entry."
   ]
  },
  {
   "cell_type": "code",
   "execution_count": 3,
   "id": "2741d3d8",
   "metadata": {
    "execution": {
     "iopub.execute_input": "2024-07-02T16:58:40.730297Z",
     "iopub.status.busy": "2024-07-02T16:58:40.729912Z",
     "iopub.status.idle": "2024-07-02T16:58:40.735418Z",
     "shell.execute_reply": "2024-07-02T16:58:40.734255Z"
    },
    "papermill": {
     "duration": 0.014403,
     "end_time": "2024-07-02T16:58:40.738330",
     "exception": false,
     "start_time": "2024-07-02T16:58:40.723927",
     "status": "completed"
    },
    "tags": []
   },
   "outputs": [
    {
     "name": "stdout",
     "output_type": "stream",
     "text": [
      "b'\\xa7A\\xa6n'\n",
      "data type: <class 'bytes'>\n"
     ]
    }
   ],
   "source": [
    "sample_entry = b'\\xa7A\\xa6n'\n",
    "print(sample_entry)\n",
    "print('data type:', type(sample_entry))"
   ]
  },
  {
   "cell_type": "markdown",
   "id": "b8748fa1",
   "metadata": {
    "papermill": {
     "duration": 0.004487,
     "end_time": "2024-07-02T16:58:40.747680",
     "exception": false,
     "start_time": "2024-07-02T16:58:40.743193",
     "status": "completed"
    },
    "tags": []
   },
   "source": [
    "You notice that it doesn't use the standard UTF-8 encoding. \n",
    "\n",
    "Use the next code cell to create a variable `new_entry` that changes the encoding from `\"big5-tw\"` to `\"utf-8\"`.  `new_entry` should have the bytes datatype."
   ]
  },
  {
   "cell_type": "code",
   "execution_count": 4,
   "id": "ebe8e402",
   "metadata": {
    "execution": {
     "iopub.execute_input": "2024-07-02T16:58:40.759553Z",
     "iopub.status.busy": "2024-07-02T16:58:40.759171Z",
     "iopub.status.idle": "2024-07-02T16:58:40.769653Z",
     "shell.execute_reply": "2024-07-02T16:58:40.768462Z"
    },
    "papermill": {
     "duration": 0.019138,
     "end_time": "2024-07-02T16:58:40.771938",
     "exception": false,
     "start_time": "2024-07-02T16:58:40.752800",
     "status": "completed"
    },
    "tags": []
   },
   "outputs": [
    {
     "data": {
      "application/javascript": [
       "parent.postMessage({\"jupyterEvent\": \"custom.exercise_interaction\", \"data\": {\"outcomeType\": 1, \"valueTowardsCompletion\": 0.3333333333333333, \"interactionType\": 1, \"questionType\": 1, \"questionId\": \"1_EncodingsIntro\", \"learnToolsVersion\": \"0.3.4\", \"failureMessage\": \"\", \"exceptionClass\": \"\", \"trace\": \"\"}}, \"*\")"
      ],
      "text/plain": [
       "<IPython.core.display.Javascript object>"
      ]
     },
     "metadata": {},
     "output_type": "display_data"
    },
    {
     "data": {
      "text/markdown": [
       "<span style=\"color:#33cc33\">Correct</span>"
      ],
      "text/plain": [
       "Correct"
      ]
     },
     "metadata": {},
     "output_type": "display_data"
    }
   ],
   "source": [
    "before = sample_entry.decode(\"big5-tw\")\n",
    "new_entry = before.encode()\n",
    "\n",
    "# Check your answer\n",
    "q1.check()"
   ]
  },
  {
   "cell_type": "code",
   "execution_count": 5,
   "id": "c7392af3",
   "metadata": {
    "execution": {
     "iopub.execute_input": "2024-07-02T16:58:40.784477Z",
     "iopub.status.busy": "2024-07-02T16:58:40.783505Z",
     "iopub.status.idle": "2024-07-02T16:58:40.788831Z",
     "shell.execute_reply": "2024-07-02T16:58:40.787645Z"
    },
    "papermill": {
     "duration": 0.013962,
     "end_time": "2024-07-02T16:58:40.791176",
     "exception": false,
     "start_time": "2024-07-02T16:58:40.777214",
     "status": "completed"
    },
    "tags": []
   },
   "outputs": [],
   "source": [
    "# Lines below will give you a hint or solution code\n",
    "#q1.hint()\n",
    "#q1.solution()"
   ]
  },
  {
   "cell_type": "markdown",
   "id": "9388bfd2",
   "metadata": {
    "papermill": {
     "duration": 0.004886,
     "end_time": "2024-07-02T16:58:40.801331",
     "exception": false,
     "start_time": "2024-07-02T16:58:40.796445",
     "status": "completed"
    },
    "tags": []
   },
   "source": [
    "# 2) Reading in files with encoding problems\n",
    "\n",
    "Use the code cell below to read in this file at path `\"../input/fatal-police-shootings-in-the-us/PoliceKillingsUS.csv\"`.  \n",
    "\n",
    "Figure out what the correct encoding should be and read in the file to a DataFrame `police_killings`."
   ]
  },
  {
   "cell_type": "code",
   "execution_count": 6,
   "id": "36efb6e1",
   "metadata": {
    "execution": {
     "iopub.execute_input": "2024-07-02T16:58:40.813753Z",
     "iopub.status.busy": "2024-07-02T16:58:40.812698Z",
     "iopub.status.idle": "2024-07-02T16:58:40.840492Z",
     "shell.execute_reply": "2024-07-02T16:58:40.839315Z"
    },
    "papermill": {
     "duration": 0.036396,
     "end_time": "2024-07-02T16:58:40.842825",
     "exception": false,
     "start_time": "2024-07-02T16:58:40.806429",
     "status": "completed"
    },
    "tags": []
   },
   "outputs": [
    {
     "data": {
      "application/javascript": [
       "parent.postMessage({\"jupyterEvent\": \"custom.exercise_interaction\", \"data\": {\"outcomeType\": 1, \"valueTowardsCompletion\": 0.3333333333333333, \"interactionType\": 1, \"questionType\": 1, \"questionId\": \"2_ReadIn\", \"learnToolsVersion\": \"0.3.4\", \"failureMessage\": \"\", \"exceptionClass\": \"\", \"trace\": \"\"}}, \"*\")"
      ],
      "text/plain": [
       "<IPython.core.display.Javascript object>"
      ]
     },
     "metadata": {},
     "output_type": "display_data"
    },
    {
     "data": {
      "text/markdown": [
       "<span style=\"color:#33cc33\">Correct</span>"
      ],
      "text/plain": [
       "Correct"
      ]
     },
     "metadata": {},
     "output_type": "display_data"
    }
   ],
   "source": [
    "# TODO: Load in the DataFrame correctly.\n",
    "police_killings = pd.read_csv(\"../input/fatal-police-shootings-in-the-us/PoliceKillingsUS.csv\", encoding='Windows-1252')\n",
    "\n",
    "# Check your answer\n",
    "q2.check()"
   ]
  },
  {
   "cell_type": "markdown",
   "id": "fea6006a",
   "metadata": {
    "papermill": {
     "duration": 0.005796,
     "end_time": "2024-07-02T16:58:40.853975",
     "exception": false,
     "start_time": "2024-07-02T16:58:40.848179",
     "status": "completed"
    },
    "tags": []
   },
   "source": [
    "Feel free to use any additional code cells for supplemental work.  To get credit for finishing this question, you'll need to run `q2.check()` and get a result of **Correct**."
   ]
  },
  {
   "cell_type": "code",
   "execution_count": 7,
   "id": "0d049541",
   "metadata": {
    "execution": {
     "iopub.execute_input": "2024-07-02T16:58:40.866810Z",
     "iopub.status.busy": "2024-07-02T16:58:40.866343Z",
     "iopub.status.idle": "2024-07-02T16:58:40.871614Z",
     "shell.execute_reply": "2024-07-02T16:58:40.870408Z"
    },
    "papermill": {
     "duration": 0.014791,
     "end_time": "2024-07-02T16:58:40.874179",
     "exception": false,
     "start_time": "2024-07-02T16:58:40.859388",
     "status": "completed"
    },
    "tags": []
   },
   "outputs": [],
   "source": [
    "# (Optional) Use this code cell for any additional work."
   ]
  },
  {
   "cell_type": "code",
   "execution_count": 8,
   "id": "1160faed",
   "metadata": {
    "execution": {
     "iopub.execute_input": "2024-07-02T16:58:40.886764Z",
     "iopub.status.busy": "2024-07-02T16:58:40.886380Z",
     "iopub.status.idle": "2024-07-02T16:58:40.891149Z",
     "shell.execute_reply": "2024-07-02T16:58:40.889958Z"
    },
    "papermill": {
     "duration": 0.013437,
     "end_time": "2024-07-02T16:58:40.893211",
     "exception": false,
     "start_time": "2024-07-02T16:58:40.879774",
     "status": "completed"
    },
    "tags": []
   },
   "outputs": [],
   "source": [
    "# Lines below will give you a hint or solution code\n",
    "#q2.hint()\n",
    "#q2.solution()"
   ]
  },
  {
   "cell_type": "markdown",
   "id": "3dab1143",
   "metadata": {
    "papermill": {
     "duration": 0.005064,
     "end_time": "2024-07-02T16:58:40.903709",
     "exception": false,
     "start_time": "2024-07-02T16:58:40.898645",
     "status": "completed"
    },
    "tags": []
   },
   "source": [
    "# 3) Saving your files with UTF-8 encoding\n",
    "\n",
    "Save a version of the police killings dataset to CSV with UTF-8 encoding.  Your answer will be marked correct after saving this file.  \n",
    "\n",
    "Note: When using the `to_csv()` method, supply only the name of the file (e.g., `\"my_file.csv\"`).  This saves the file at the filepath `\"/kaggle/working/my_file.csv\"`."
   ]
  },
  {
   "cell_type": "code",
   "execution_count": 9,
   "id": "0fbdd574",
   "metadata": {
    "execution": {
     "iopub.execute_input": "2024-07-02T16:58:40.915893Z",
     "iopub.status.busy": "2024-07-02T16:58:40.915494Z",
     "iopub.status.idle": "2024-07-02T16:58:40.956707Z",
     "shell.execute_reply": "2024-07-02T16:58:40.955425Z"
    },
    "papermill": {
     "duration": 0.050255,
     "end_time": "2024-07-02T16:58:40.959228",
     "exception": false,
     "start_time": "2024-07-02T16:58:40.908973",
     "status": "completed"
    },
    "tags": []
   },
   "outputs": [
    {
     "data": {
      "application/javascript": [
       "parent.postMessage({\"jupyterEvent\": \"custom.exercise_interaction\", \"data\": {\"outcomeType\": 1, \"valueTowardsCompletion\": 0.3333333333333333, \"interactionType\": 1, \"questionType\": 2, \"questionId\": \"3_SaveCSV\", \"learnToolsVersion\": \"0.3.4\", \"failureMessage\": \"\", \"exceptionClass\": \"\", \"trace\": \"\"}}, \"*\")"
      ],
      "text/plain": [
       "<IPython.core.display.Javascript object>"
      ]
     },
     "metadata": {},
     "output_type": "display_data"
    },
    {
     "data": {
      "text/markdown": [
       "<span style=\"color:#33cc33\">Correct</span>"
      ],
      "text/plain": [
       "Correct"
      ]
     },
     "metadata": {},
     "output_type": "display_data"
    }
   ],
   "source": [
    "# TODO: Save the police killings dataset to CSV\n",
    "police_killings.to_csv(\"my_file.csv\")\n",
    "\n",
    "# Check your answer\n",
    "q3.check()"
   ]
  },
  {
   "cell_type": "code",
   "execution_count": 10,
   "id": "30f1a2bc",
   "metadata": {
    "execution": {
     "iopub.execute_input": "2024-07-02T16:58:40.973513Z",
     "iopub.status.busy": "2024-07-02T16:58:40.973155Z",
     "iopub.status.idle": "2024-07-02T16:58:40.977669Z",
     "shell.execute_reply": "2024-07-02T16:58:40.976536Z"
    },
    "papermill": {
     "duration": 0.015246,
     "end_time": "2024-07-02T16:58:40.980073",
     "exception": false,
     "start_time": "2024-07-02T16:58:40.964827",
     "status": "completed"
    },
    "tags": []
   },
   "outputs": [],
   "source": [
    "# Lines below will give you a hint or solution code\n",
    "#q3.hint()\n",
    "#q3.solution()"
   ]
  },
  {
   "cell_type": "markdown",
   "id": "caadff7f",
   "metadata": {
    "papermill": {
     "duration": 0.005319,
     "end_time": "2024-07-02T16:58:40.991174",
     "exception": false,
     "start_time": "2024-07-02T16:58:40.985855",
     "status": "completed"
    },
    "tags": []
   },
   "source": [
    "# (Optional) More practice\n",
    "\n",
    "Check out [this dataset of files in different character encodings](https://www.kaggle.com/rtatman/character-encoding-examples). Can you read in all the files with their original encodings and them save them out as UTF-8 files?\n",
    "\n",
    "If you have a file that's in UTF-8 but has just a couple of weird-looking characters in it, you can try out the [ftfy module](https://ftfy.readthedocs.io/en/latest/#) and see if it helps. \n",
    "\n",
    "# Keep going\n",
    "\n",
    "In the final lesson, learn how to [**clean up inconsistent text entries**](https://www.kaggle.com/alexisbcook/inconsistent-data-entry) in your dataset."
   ]
  },
  {
   "cell_type": "markdown",
   "id": "15c3a0ef",
   "metadata": {
    "papermill": {
     "duration": 0.005252,
     "end_time": "2024-07-02T16:58:41.001991",
     "exception": false,
     "start_time": "2024-07-02T16:58:40.996739",
     "status": "completed"
    },
    "tags": []
   },
   "source": [
    "---\n",
    "\n",
    "\n",
    "\n",
    "\n",
    "*Have questions or comments? Visit the [course discussion forum](https://www.kaggle.com/learn/data-cleaning/discussion) to chat with other learners.*"
   ]
  }
 ],
 "metadata": {
  "kaggle": {
   "accelerator": "none",
   "dataSources": [
    {
     "datasetId": 2647,
     "sourceId": 4395,
     "sourceType": "datasetVersion"
    }
   ],
   "isGpuEnabled": false,
   "isInternetEnabled": false,
   "language": "python",
   "sourceType": "notebook"
  },
  "kernelspec": {
   "display_name": "Python 3",
   "language": "python",
   "name": "python3"
  },
  "language_info": {
   "codemirror_mode": {
    "name": "ipython",
    "version": 3
   },
   "file_extension": ".py",
   "mimetype": "text/x-python",
   "name": "python",
   "nbconvert_exporter": "python",
   "pygments_lexer": "ipython3",
   "version": "3.10.13"
  },
  "papermill": {
   "default_parameters": {},
   "duration": 4.877036,
   "end_time": "2024-07-02T16:58:41.529123",
   "environment_variables": {},
   "exception": null,
   "input_path": "__notebook__.ipynb",
   "output_path": "__notebook__.ipynb",
   "parameters": {},
   "start_time": "2024-07-02T16:58:36.652087",
   "version": "2.5.0"
  }
 },
 "nbformat": 4,
 "nbformat_minor": 5
}
