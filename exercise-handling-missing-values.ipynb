{
 "cells": [
  {
   "cell_type": "markdown",
   "id": "3dfaf3e4",
   "metadata": {
    "papermill": {
     "duration": 0.007154,
     "end_time": "2024-07-02T16:19:52.958417",
     "exception": false,
     "start_time": "2024-07-02T16:19:52.951263",
     "status": "completed"
    },
    "tags": []
   },
   "source": [
    "**This notebook is an exercise in the [Data Cleaning](https://www.kaggle.com/learn/data-cleaning) course.  You can reference the tutorial at [this link](https://www.kaggle.com/alexisbcook/handling-missing-values).**\n",
    "\n",
    "---\n"
   ]
  },
  {
   "cell_type": "markdown",
   "id": "c68f9c5b",
   "metadata": {
    "papermill": {
     "duration": 0.005922,
     "end_time": "2024-07-02T16:19:52.971154",
     "exception": false,
     "start_time": "2024-07-02T16:19:52.965232",
     "status": "completed"
    },
    "tags": []
   },
   "source": [
    "In this exercise, you'll apply what you learned in the **Handling missing values** tutorial.\n",
    "\n",
    "# Setup\n",
    "\n",
    "The questions below will give you feedback on your work. Run the following cell to set up the feedback system."
   ]
  },
  {
   "cell_type": "code",
   "execution_count": 1,
   "id": "b3c7be81",
   "metadata": {
    "execution": {
     "iopub.execute_input": "2024-07-02T16:19:52.985318Z",
     "iopub.status.busy": "2024-07-02T16:19:52.984906Z",
     "iopub.status.idle": "2024-07-02T16:19:59.686992Z",
     "shell.execute_reply": "2024-07-02T16:19:59.685565Z"
    },
    "papermill": {
     "duration": 6.712273,
     "end_time": "2024-07-02T16:19:59.689523",
     "exception": false,
     "start_time": "2024-07-02T16:19:52.977250",
     "status": "completed"
    },
    "tags": []
   },
   "outputs": [
    {
     "name": "stderr",
     "output_type": "stream",
     "text": [
      "/opt/conda/lib/python3.10/site-packages/learntools/data_cleaning/ex1.py:6: DtypeWarning: Columns (22,32) have mixed types. Specify dtype option on import or set low_memory=False.\n",
      "  sf_permits = pd.read_csv(\"../input/building-permit-applications-data/Building_Permits.csv\")\n",
      "/tmp/ipykernel_18/3419995878.py:3: DeprecationWarning: `product` is deprecated as of NumPy 1.25.0, and will be removed in NumPy 2.0. Please use `prod` instead.\n",
      "  from learntools.data_cleaning.ex1 import *\n",
      "/opt/conda/lib/python3.10/site-packages/learntools/data_cleaning/ex1.py:69: FutureWarning: DataFrame.fillna with 'method' is deprecated and will raise in a future version. Use obj.ffill() or obj.bfill() instead.\n",
      "  _expected = sf_permits.fillna(method='bfill', axis=0).fillna(0)\n"
     ]
    },
    {
     "name": "stdout",
     "output_type": "stream",
     "text": [
      "Setup Complete\n"
     ]
    }
   ],
   "source": [
    "from learntools.core import binder\n",
    "binder.bind(globals())\n",
    "from learntools.data_cleaning.ex1 import *\n",
    "print(\"Setup Complete\")"
   ]
  },
  {
   "cell_type": "markdown",
   "id": "430729ad",
   "metadata": {
    "papermill": {
     "duration": 0.0061,
     "end_time": "2024-07-02T16:19:59.702258",
     "exception": false,
     "start_time": "2024-07-02T16:19:59.696158",
     "status": "completed"
    },
    "tags": []
   },
   "source": [
    "# 1) Take a first look at the data\n",
    "\n",
    "Run the next code cell to load in the libraries and dataset you'll use to complete the exercise."
   ]
  },
  {
   "cell_type": "code",
   "execution_count": 2,
   "id": "0c93d015",
   "metadata": {
    "execution": {
     "iopub.execute_input": "2024-07-02T16:19:59.717718Z",
     "iopub.status.busy": "2024-07-02T16:19:59.717344Z",
     "iopub.status.idle": "2024-07-02T16:20:01.957949Z",
     "shell.execute_reply": "2024-07-02T16:20:01.956270Z"
    },
    "papermill": {
     "duration": 2.251546,
     "end_time": "2024-07-02T16:20:01.961166",
     "exception": false,
     "start_time": "2024-07-02T16:19:59.709620",
     "status": "completed"
    },
    "tags": []
   },
   "outputs": [
    {
     "name": "stderr",
     "output_type": "stream",
     "text": [
      "/tmp/ipykernel_18/3534875831.py:6: DtypeWarning: Columns (22,32) have mixed types. Specify dtype option on import or set low_memory=False.\n",
      "  sf_permits = pd.read_csv(\"../input/building-permit-applications-data/Building_Permits.csv\")\n"
     ]
    }
   ],
   "source": [
    "# modules we'll use\n",
    "import pandas as pd\n",
    "import numpy as np\n",
    "\n",
    "# read in all our data\n",
    "sf_permits = pd.read_csv(\"../input/building-permit-applications-data/Building_Permits.csv\")\n",
    "\n",
    "# set seed for reproducibility\n",
    "np.random.seed(0) "
   ]
  },
  {
   "cell_type": "markdown",
   "id": "0e8c6905",
   "metadata": {
    "papermill": {
     "duration": 0.007058,
     "end_time": "2024-07-02T16:20:01.975931",
     "exception": false,
     "start_time": "2024-07-02T16:20:01.968873",
     "status": "completed"
    },
    "tags": []
   },
   "source": [
    "Use the code cell below to print the first five rows of the `sf_permits` DataFrame."
   ]
  },
  {
   "cell_type": "code",
   "execution_count": 3,
   "id": "cc62a443",
   "metadata": {
    "execution": {
     "iopub.execute_input": "2024-07-02T16:20:01.994545Z",
     "iopub.status.busy": "2024-07-02T16:20:01.994025Z",
     "iopub.status.idle": "2024-07-02T16:20:02.000475Z",
     "shell.execute_reply": "2024-07-02T16:20:01.998819Z"
    },
    "papermill": {
     "duration": 0.019117,
     "end_time": "2024-07-02T16:20:02.003089",
     "exception": false,
     "start_time": "2024-07-02T16:20:01.983972",
     "status": "completed"
    },
    "tags": []
   },
   "outputs": [],
   "source": [
    "# TODO: Your code here!\n"
   ]
  },
  {
   "cell_type": "markdown",
   "id": "0d9667d7",
   "metadata": {
    "papermill": {
     "duration": 0.007037,
     "end_time": "2024-07-02T16:20:02.018000",
     "exception": false,
     "start_time": "2024-07-02T16:20:02.010963",
     "status": "completed"
    },
    "tags": []
   },
   "source": [
    "Does the dataset have any missing values?  Once you have an answer, run the code cell below to get credit for your work."
   ]
  },
  {
   "cell_type": "code",
   "execution_count": 4,
   "id": "9ed04702",
   "metadata": {
    "execution": {
     "iopub.execute_input": "2024-07-02T16:20:02.035563Z",
     "iopub.status.busy": "2024-07-02T16:20:02.035113Z",
     "iopub.status.idle": "2024-07-02T16:20:02.047242Z",
     "shell.execute_reply": "2024-07-02T16:20:02.045745Z"
    },
    "papermill": {
     "duration": 0.024725,
     "end_time": "2024-07-02T16:20:02.050050",
     "exception": false,
     "start_time": "2024-07-02T16:20:02.025325",
     "status": "completed"
    },
    "tags": []
   },
   "outputs": [
    {
     "data": {
      "application/javascript": [
       "parent.postMessage({\"jupyterEvent\": \"custom.exercise_interaction\", \"data\": {\"outcomeType\": 1, \"valueTowardsCompletion\": 0.16666666666666666, \"interactionType\": 1, \"questionType\": 4, \"questionId\": \"1_TakeFirstLook\", \"learnToolsVersion\": \"0.3.4\", \"failureMessage\": \"\", \"exceptionClass\": \"\", \"trace\": \"\"}}, \"*\")"
      ],
      "text/plain": [
       "<IPython.core.display.Javascript object>"
      ]
     },
     "metadata": {},
     "output_type": "display_data"
    },
    {
     "data": {
      "text/markdown": [
       "<span style=\"color:#33cc33\">Correct:</span> \n",
       "\n",
       "The first five rows of the data does show that several columns have missing values.  You can see this in the \"Street Number Suffix\", \"Proposed Construction Type\" and \"Site Permit\" columns, among others."
      ],
      "text/plain": [
       "Correct: \n",
       "\n",
       "The first five rows of the data does show that several columns have missing values.  You can see this in the \"Street Number Suffix\", \"Proposed Construction Type\" and \"Site Permit\" columns, among others."
      ]
     },
     "metadata": {},
     "output_type": "display_data"
    }
   ],
   "source": [
    "# Check your answer (Run this code cell to receive credit!)\n",
    "q1.check()"
   ]
  },
  {
   "cell_type": "code",
   "execution_count": 5,
   "id": "f6fa3da7",
   "metadata": {
    "execution": {
     "iopub.execute_input": "2024-07-02T16:20:02.066091Z",
     "iopub.status.busy": "2024-07-02T16:20:02.065701Z",
     "iopub.status.idle": "2024-07-02T16:20:02.076184Z",
     "shell.execute_reply": "2024-07-02T16:20:02.074559Z"
    },
    "papermill": {
     "duration": 0.022031,
     "end_time": "2024-07-02T16:20:02.078978",
     "exception": false,
     "start_time": "2024-07-02T16:20:02.056947",
     "status": "completed"
    },
    "tags": []
   },
   "outputs": [
    {
     "data": {
      "application/javascript": [
       "parent.postMessage({\"jupyterEvent\": \"custom.exercise_interaction\", \"data\": {\"interactionType\": 2, \"questionType\": 4, \"questionId\": \"1_TakeFirstLook\", \"learnToolsVersion\": \"0.3.4\", \"valueTowardsCompletion\": 0.0, \"failureMessage\": \"\", \"exceptionClass\": \"\", \"trace\": \"\", \"outcomeType\": 4}}, \"*\")"
      ],
      "text/plain": [
       "<IPython.core.display.Javascript object>"
      ]
     },
     "metadata": {},
     "output_type": "display_data"
    },
    {
     "data": {
      "text/markdown": [
       "<span style=\"color:#3366cc\">Hint:</span> Use `sf_permits.head()` to view the first five rows of the data."
      ],
      "text/plain": [
       "Hint: Use `sf_permits.head()` to view the first five rows of the data."
      ]
     },
     "metadata": {},
     "output_type": "display_data"
    }
   ],
   "source": [
    "# Line below will give you a hint\n",
    "q1.hint()"
   ]
  },
  {
   "cell_type": "markdown",
   "id": "0395cb17",
   "metadata": {
    "papermill": {
     "duration": 0.007451,
     "end_time": "2024-07-02T16:20:02.095136",
     "exception": false,
     "start_time": "2024-07-02T16:20:02.087685",
     "status": "completed"
    },
    "tags": []
   },
   "source": [
    "# 2) How many missing data points do we have?\n",
    "\n",
    "What percentage of the values in the dataset are missing?  Your answer should be a number between 0 and 100.  (If 1/4 of the values in the dataset are missing, the answer is 25.)"
   ]
  },
  {
   "cell_type": "code",
   "execution_count": 6,
   "id": "07f09c74",
   "metadata": {
    "execution": {
     "iopub.execute_input": "2024-07-02T16:20:02.112558Z",
     "iopub.status.busy": "2024-07-02T16:20:02.112135Z",
     "iopub.status.idle": "2024-07-02T16:20:02.360337Z",
     "shell.execute_reply": "2024-07-02T16:20:02.359244Z"
    },
    "papermill": {
     "duration": 0.26003,
     "end_time": "2024-07-02T16:20:02.362929",
     "exception": false,
     "start_time": "2024-07-02T16:20:02.102899",
     "status": "completed"
    },
    "tags": []
   },
   "outputs": [
    {
     "data": {
      "application/javascript": [
       "parent.postMessage({\"jupyterEvent\": \"custom.exercise_interaction\", \"data\": {\"outcomeType\": 1, \"valueTowardsCompletion\": 0.16666666666666666, \"interactionType\": 1, \"questionType\": 1, \"questionId\": \"2_PercentMissingValues\", \"learnToolsVersion\": \"0.3.4\", \"failureMessage\": \"\", \"exceptionClass\": \"\", \"trace\": \"\"}}, \"*\")"
      ],
      "text/plain": [
       "<IPython.core.display.Javascript object>"
      ]
     },
     "metadata": {},
     "output_type": "display_data"
    },
    {
     "data": {
      "text/markdown": [
       "<span style=\"color:#33cc33\">Correct</span>"
      ],
      "text/plain": [
       "Correct"
      ]
     },
     "metadata": {},
     "output_type": "display_data"
    }
   ],
   "source": [
    "# TODO: Your code here!\n",
    "#percent_missing = sf_permits.isnull().sum()\n",
    "missing_values_count = sf_permits.isnull().sum()\n",
    "\n",
    "# how many total missing values do we have?\n",
    "total_cells = np.product(sf_permits.shape)\n",
    "total_missing = missing_values_count.sum()\n",
    "\n",
    "# percent of data that is missing\n",
    "percent_missing = (total_missing/total_cells) * 100\n",
    "# Check your answer\n",
    "q2.check()"
   ]
  },
  {
   "cell_type": "code",
   "execution_count": 7,
   "id": "c08d428f",
   "metadata": {
    "execution": {
     "iopub.execute_input": "2024-07-02T16:20:02.381322Z",
     "iopub.status.busy": "2024-07-02T16:20:02.380938Z",
     "iopub.status.idle": "2024-07-02T16:20:02.386268Z",
     "shell.execute_reply": "2024-07-02T16:20:02.385044Z"
    },
    "papermill": {
     "duration": 0.018002,
     "end_time": "2024-07-02T16:20:02.389007",
     "exception": false,
     "start_time": "2024-07-02T16:20:02.371005",
     "status": "completed"
    },
    "tags": []
   },
   "outputs": [],
   "source": [
    "# Lines below will give you a hint or solution code\n",
    "#q2.hint()\n",
    "#q2.solution()"
   ]
  },
  {
   "cell_type": "markdown",
   "id": "ca6892ba",
   "metadata": {
    "papermill": {
     "duration": 0.008352,
     "end_time": "2024-07-02T16:20:02.404973",
     "exception": false,
     "start_time": "2024-07-02T16:20:02.396621",
     "status": "completed"
    },
    "tags": []
   },
   "source": [
    "# 3) Figure out why the data is missing\n",
    "\n",
    "Look at the columns **\"Street Number Suffix\"** and **\"Zipcode\"** from the [San Francisco Building Permits dataset](https://www.kaggle.com/aparnashastry/building-permit-applications-data). Both of these contain missing values. \n",
    "- Which, if either, are missing because they don't exist? \n",
    "- Which, if either, are missing because they weren't recorded?  \n",
    "\n",
    "Once you have an answer, run the code cell below."
   ]
  },
  {
   "cell_type": "code",
   "execution_count": 8,
   "id": "0a70af10",
   "metadata": {
    "execution": {
     "iopub.execute_input": "2024-07-02T16:20:02.422321Z",
     "iopub.status.busy": "2024-07-02T16:20:02.421925Z",
     "iopub.status.idle": "2024-07-02T16:20:02.431404Z",
     "shell.execute_reply": "2024-07-02T16:20:02.430095Z"
    },
    "papermill": {
     "duration": 0.02092,
     "end_time": "2024-07-02T16:20:02.433941",
     "exception": false,
     "start_time": "2024-07-02T16:20:02.413021",
     "status": "completed"
    },
    "tags": []
   },
   "outputs": [
    {
     "data": {
      "application/javascript": [
       "parent.postMessage({\"jupyterEvent\": \"custom.exercise_interaction\", \"data\": {\"outcomeType\": 1, \"valueTowardsCompletion\": 0.16666666666666666, \"interactionType\": 1, \"questionType\": 4, \"questionId\": \"3_WhyDataMissing\", \"learnToolsVersion\": \"0.3.4\", \"failureMessage\": \"\", \"exceptionClass\": \"\", \"trace\": \"\"}}, \"*\")"
      ],
      "text/plain": [
       "<IPython.core.display.Javascript object>"
      ]
     },
     "metadata": {},
     "output_type": "display_data"
    },
    {
     "data": {
      "text/markdown": [
       "<span style=\"color:#33cc33\">Correct:</span> \n",
       "\n",
       "If a value in the \"Street Number Suffix\" column is missing, it is likely because it does not exist. If a value in the \"Zipcode\" column is missing, it was not recorded."
      ],
      "text/plain": [
       "Correct: \n",
       "\n",
       "If a value in the \"Street Number Suffix\" column is missing, it is likely because it does not exist. If a value in the \"Zipcode\" column is missing, it was not recorded."
      ]
     },
     "metadata": {},
     "output_type": "display_data"
    }
   ],
   "source": [
    "# Check your answer (Run this code cell to receive credit!)\n",
    "q3.check()"
   ]
  },
  {
   "cell_type": "code",
   "execution_count": 9,
   "id": "9fc8f825",
   "metadata": {
    "execution": {
     "iopub.execute_input": "2024-07-02T16:20:02.453526Z",
     "iopub.status.busy": "2024-07-02T16:20:02.453107Z",
     "iopub.status.idle": "2024-07-02T16:20:02.458509Z",
     "shell.execute_reply": "2024-07-02T16:20:02.457405Z"
    },
    "papermill": {
     "duration": 0.019092,
     "end_time": "2024-07-02T16:20:02.461903",
     "exception": false,
     "start_time": "2024-07-02T16:20:02.442811",
     "status": "completed"
    },
    "tags": []
   },
   "outputs": [],
   "source": [
    "# Line below will give you a hint\n",
    "#q3.hint()"
   ]
  },
  {
   "cell_type": "markdown",
   "id": "af575f3b",
   "metadata": {
    "papermill": {
     "duration": 0.007221,
     "end_time": "2024-07-02T16:20:02.476904",
     "exception": false,
     "start_time": "2024-07-02T16:20:02.469683",
     "status": "completed"
    },
    "tags": []
   },
   "source": [
    "# 4) Drop missing values: rows\n",
    "\n",
    "If you removed all of the rows of `sf_permits` with missing values, how many rows are left?\n",
    "\n",
    "**Note**: Do not change the value of `sf_permits` when checking this.  "
   ]
  },
  {
   "cell_type": "code",
   "execution_count": 10,
   "id": "c4ecbded",
   "metadata": {
    "execution": {
     "iopub.execute_input": "2024-07-02T16:20:02.497932Z",
     "iopub.status.busy": "2024-07-02T16:20:02.497564Z",
     "iopub.status.idle": "2024-07-02T16:20:02.504467Z",
     "shell.execute_reply": "2024-07-02T16:20:02.502718Z"
    },
    "papermill": {
     "duration": 0.019317,
     "end_time": "2024-07-02T16:20:02.507029",
     "exception": false,
     "start_time": "2024-07-02T16:20:02.487712",
     "status": "completed"
    },
    "tags": []
   },
   "outputs": [],
   "source": [
    "# TODO: Your code here!\n"
   ]
  },
  {
   "cell_type": "markdown",
   "id": "41d41895",
   "metadata": {
    "papermill": {
     "duration": 0.007524,
     "end_time": "2024-07-02T16:20:02.522865",
     "exception": false,
     "start_time": "2024-07-02T16:20:02.515341",
     "status": "completed"
    },
    "tags": []
   },
   "source": [
    "Once you have an answer, run the code cell below."
   ]
  },
  {
   "cell_type": "code",
   "execution_count": 11,
   "id": "7d4de33a",
   "metadata": {
    "execution": {
     "iopub.execute_input": "2024-07-02T16:20:02.542029Z",
     "iopub.status.busy": "2024-07-02T16:20:02.541532Z",
     "iopub.status.idle": "2024-07-02T16:20:02.552082Z",
     "shell.execute_reply": "2024-07-02T16:20:02.550792Z"
    },
    "papermill": {
     "duration": 0.023083,
     "end_time": "2024-07-02T16:20:02.554987",
     "exception": false,
     "start_time": "2024-07-02T16:20:02.531904",
     "status": "completed"
    },
    "tags": []
   },
   "outputs": [
    {
     "data": {
      "application/javascript": [
       "parent.postMessage({\"jupyterEvent\": \"custom.exercise_interaction\", \"data\": {\"outcomeType\": 1, \"valueTowardsCompletion\": 0.16666666666666666, \"interactionType\": 1, \"questionType\": 4, \"questionId\": \"4_DropMissingRows\", \"learnToolsVersion\": \"0.3.4\", \"failureMessage\": \"\", \"exceptionClass\": \"\", \"trace\": \"\"}}, \"*\")"
      ],
      "text/plain": [
       "<IPython.core.display.Javascript object>"
      ]
     },
     "metadata": {},
     "output_type": "display_data"
    },
    {
     "data": {
      "text/markdown": [
       "<span style=\"color:#33cc33\">Correct:</span> \n",
       "\n",
       "There are no rows remaining in the dataset!"
      ],
      "text/plain": [
       "Correct: \n",
       "\n",
       "There are no rows remaining in the dataset!"
      ]
     },
     "metadata": {},
     "output_type": "display_data"
    }
   ],
   "source": [
    "# Check your answer (Run this code cell to receive credit!)\n",
    "q4.check()"
   ]
  },
  {
   "cell_type": "code",
   "execution_count": 12,
   "id": "14d757fe",
   "metadata": {
    "execution": {
     "iopub.execute_input": "2024-07-02T16:20:02.575026Z",
     "iopub.status.busy": "2024-07-02T16:20:02.574661Z",
     "iopub.status.idle": "2024-07-02T16:20:02.579477Z",
     "shell.execute_reply": "2024-07-02T16:20:02.578312Z"
    },
    "papermill": {
     "duration": 0.019131,
     "end_time": "2024-07-02T16:20:02.582887",
     "exception": false,
     "start_time": "2024-07-02T16:20:02.563756",
     "status": "completed"
    },
    "tags": []
   },
   "outputs": [],
   "source": [
    "# Line below will give you a hint\n",
    "#q4.hint()"
   ]
  },
  {
   "cell_type": "markdown",
   "id": "01a83cd6",
   "metadata": {
    "papermill": {
     "duration": 0.00813,
     "end_time": "2024-07-02T16:20:02.599928",
     "exception": false,
     "start_time": "2024-07-02T16:20:02.591798",
     "status": "completed"
    },
    "tags": []
   },
   "source": [
    "# 5) Drop missing values: columns\n",
    "\n",
    "Now try removing all the columns with empty values.  \n",
    "- Create a new DataFrame called `sf_permits_with_na_dropped` that has all of the columns with empty values removed.  \n",
    "- How many columns were removed from the original `sf_permits` DataFrame? Use this number to set the value of the `dropped_columns` variable below."
   ]
  },
  {
   "cell_type": "code",
   "execution_count": 13,
   "id": "5bac8576",
   "metadata": {
    "execution": {
     "iopub.execute_input": "2024-07-02T16:20:02.620810Z",
     "iopub.status.busy": "2024-07-02T16:20:02.620433Z",
     "iopub.status.idle": "2024-07-02T16:20:02.884443Z",
     "shell.execute_reply": "2024-07-02T16:20:02.883041Z"
    },
    "papermill": {
     "duration": 0.276079,
     "end_time": "2024-07-02T16:20:02.886890",
     "exception": false,
     "start_time": "2024-07-02T16:20:02.610811",
     "status": "completed"
    },
    "tags": []
   },
   "outputs": [
    {
     "data": {
      "application/javascript": [
       "parent.postMessage({\"jupyterEvent\": \"custom.exercise_interaction\", \"data\": {\"outcomeType\": 1, \"valueTowardsCompletion\": 0.16666666666666666, \"interactionType\": 1, \"questionType\": 1, \"questionId\": \"5_DropMissingCols\", \"learnToolsVersion\": \"0.3.4\", \"failureMessage\": \"\", \"exceptionClass\": \"\", \"trace\": \"\"}}, \"*\")"
      ],
      "text/plain": [
       "<IPython.core.display.Javascript object>"
      ]
     },
     "metadata": {},
     "output_type": "display_data"
    },
    {
     "data": {
      "text/markdown": [
       "<span style=\"color:#33cc33\">Correct</span>"
      ],
      "text/plain": [
       "Correct"
      ]
     },
     "metadata": {},
     "output_type": "display_data"
    }
   ],
   "source": [
    "# TODO: Your code here\n",
    "sf_permits_with_na_dropped = sf_permits.dropna(axis=1)\n",
    "\n",
    "cols_in_original_dataset = sf_permits.shape[1]\n",
    "cols_in_na_dropped = sf_permits_with_na_dropped.shape[1]\n",
    "\n",
    "dropped_columns = cols_in_original_dataset - cols_in_na_dropped\n",
    "\n",
    "# Check your answer\n",
    "q5.check()"
   ]
  },
  {
   "cell_type": "code",
   "execution_count": 14,
   "id": "c928853c",
   "metadata": {
    "execution": {
     "iopub.execute_input": "2024-07-02T16:20:02.905714Z",
     "iopub.status.busy": "2024-07-02T16:20:02.905306Z",
     "iopub.status.idle": "2024-07-02T16:20:02.910903Z",
     "shell.execute_reply": "2024-07-02T16:20:02.909822Z"
    },
    "papermill": {
     "duration": 0.017865,
     "end_time": "2024-07-02T16:20:02.913280",
     "exception": false,
     "start_time": "2024-07-02T16:20:02.895415",
     "status": "completed"
    },
    "tags": []
   },
   "outputs": [],
   "source": [
    "# Lines below will give you a hint or solution code\n",
    "#q5.hint()\n",
    "\n",
    "#q5.solution()"
   ]
  },
  {
   "cell_type": "markdown",
   "id": "911616c7",
   "metadata": {
    "papermill": {
     "duration": 0.008777,
     "end_time": "2024-07-02T16:20:02.930092",
     "exception": false,
     "start_time": "2024-07-02T16:20:02.921315",
     "status": "completed"
    },
    "tags": []
   },
   "source": [
    "# 6) Fill in missing values automatically\n",
    "\n",
    "Try replacing all the NaN's in the `sf_permits` data with the one that comes directly after it and then replacing any remaining NaN's with 0.  Set the result to a new DataFrame `sf_permits_with_na_imputed`."
   ]
  },
  {
   "cell_type": "code",
   "execution_count": 15,
   "id": "0b894e76",
   "metadata": {
    "execution": {
     "iopub.execute_input": "2024-07-02T16:20:02.950164Z",
     "iopub.status.busy": "2024-07-02T16:20:02.949800Z",
     "iopub.status.idle": "2024-07-02T16:20:05.020875Z",
     "shell.execute_reply": "2024-07-02T16:20:05.019025Z"
    },
    "papermill": {
     "duration": 2.08453,
     "end_time": "2024-07-02T16:20:05.023131",
     "exception": false,
     "start_time": "2024-07-02T16:20:02.938601",
     "status": "completed"
    },
    "tags": []
   },
   "outputs": [
    {
     "name": "stderr",
     "output_type": "stream",
     "text": [
      "/tmp/ipykernel_18/3167686981.py:2: FutureWarning: DataFrame.fillna with 'method' is deprecated and will raise in a future version. Use obj.ffill() or obj.bfill() instead.\n",
      "  sf_permits_with_na_imputed = sf_permits.fillna(method='bfill', axis=0).fillna(0)\n"
     ]
    },
    {
     "data": {
      "application/javascript": [
       "parent.postMessage({\"jupyterEvent\": \"custom.exercise_interaction\", \"data\": {\"outcomeType\": 1, \"valueTowardsCompletion\": 0.16666666666666666, \"interactionType\": 1, \"questionType\": 1, \"questionId\": \"6_ImputeAutomatically\", \"learnToolsVersion\": \"0.3.4\", \"failureMessage\": \"\", \"exceptionClass\": \"\", \"trace\": \"\"}}, \"*\")"
      ],
      "text/plain": [
       "<IPython.core.display.Javascript object>"
      ]
     },
     "metadata": {},
     "output_type": "display_data"
    },
    {
     "data": {
      "text/markdown": [
       "<span style=\"color:#33cc33\">Correct</span>"
      ],
      "text/plain": [
       "Correct"
      ]
     },
     "metadata": {},
     "output_type": "display_data"
    }
   ],
   "source": [
    "# TODO: Your code here\n",
    "sf_permits_with_na_imputed = sf_permits.fillna(method='bfill', axis=0).fillna(0)\n",
    "\n",
    "# Check your answer\n",
    "q6.check()"
   ]
  },
  {
   "cell_type": "code",
   "execution_count": 16,
   "id": "14dfa011",
   "metadata": {
    "execution": {
     "iopub.execute_input": "2024-07-02T16:20:05.042631Z",
     "iopub.status.busy": "2024-07-02T16:20:05.042198Z",
     "iopub.status.idle": "2024-07-02T16:20:05.046676Z",
     "shell.execute_reply": "2024-07-02T16:20:05.045583Z"
    },
    "papermill": {
     "duration": 0.016869,
     "end_time": "2024-07-02T16:20:05.049090",
     "exception": false,
     "start_time": "2024-07-02T16:20:05.032221",
     "status": "completed"
    },
    "tags": []
   },
   "outputs": [],
   "source": [
    "# Lines below will give you a hint or solution code\n",
    "#q6.hint()\n",
    "#q6.solution()"
   ]
  },
  {
   "cell_type": "markdown",
   "id": "7e080d0e",
   "metadata": {
    "papermill": {
     "duration": 0.008285,
     "end_time": "2024-07-02T16:20:05.065990",
     "exception": false,
     "start_time": "2024-07-02T16:20:05.057705",
     "status": "completed"
    },
    "tags": []
   },
   "source": [
    "# More practice\n",
    "\n",
    "If you're looking for more practice handling missing values:\n",
    "\n",
    "* Check out [this noteboook](https://www.kaggle.com/alexisbcook/missing-values) on handling missing values using scikit-learn's imputer. \n",
    "* Look back at the \"Zipcode\" column in the `sf_permits` dataset, which has some missing values. How would you go about figuring out what the actual zipcode of each address should be? (You might try using another dataset. You can search for datasets about San Fransisco on the [Datasets listing](https://www.kaggle.com/datasets).) \n",
    "\n",
    "# Keep going\n",
    "\n",
    "In the next lesson, learn how to [**apply scaling and normalization**](https://www.kaggle.com/alexisbcook/scaling-and-normalization) to transform your data."
   ]
  },
  {
   "cell_type": "markdown",
   "id": "9798727b",
   "metadata": {
    "papermill": {
     "duration": 0.008678,
     "end_time": "2024-07-02T16:20:05.083238",
     "exception": false,
     "start_time": "2024-07-02T16:20:05.074560",
     "status": "completed"
    },
    "tags": []
   },
   "source": [
    "---\n",
    "\n",
    "\n",
    "\n",
    "\n",
    "*Have questions or comments? Visit the [course discussion forum](https://www.kaggle.com/learn/data-cleaning/discussion) to chat with other learners.*"
   ]
  }
 ],
 "metadata": {
  "kaggle": {
   "accelerator": "none",
   "dataSources": [
    {
     "datasetId": 16432,
     "sourceId": 21688,
     "sourceType": "datasetVersion"
    }
   ],
   "isGpuEnabled": false,
   "isInternetEnabled": false,
   "language": "python",
   "sourceType": "notebook"
  },
  "kernelspec": {
   "display_name": "Python 3",
   "language": "python",
   "name": "python3"
  },
  "language_info": {
   "codemirror_mode": {
    "name": "ipython",
    "version": 3
   },
   "file_extension": ".py",
   "mimetype": "text/x-python",
   "name": "python",
   "nbconvert_exporter": "python",
   "pygments_lexer": "ipython3",
   "version": "3.10.13"
  },
  "papermill": {
   "default_parameters": {},
   "duration": 15.809708,
   "end_time": "2024-07-02T16:20:05.814522",
   "environment_variables": {},
   "exception": null,
   "input_path": "__notebook__.ipynb",
   "output_path": "__notebook__.ipynb",
   "parameters": {},
   "start_time": "2024-07-02T16:19:50.004814",
   "version": "2.5.0"
  }
 },
 "nbformat": 4,
 "nbformat_minor": 5
}
