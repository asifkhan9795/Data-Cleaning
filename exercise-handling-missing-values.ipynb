{
 "cells": [
  {
   "cell_type": "markdown",
   "id": "3218d4c8",
   "metadata": {
    "papermill": {
     "duration": 0.009078,
     "end_time": "2024-06-30T06:35:08.548459",
     "exception": false,
     "start_time": "2024-06-30T06:35:08.539381",
     "status": "completed"
    },
    "tags": []
   },
   "source": [
    "**This notebook is an exercise in the [Data Cleaning](https://www.kaggle.com/learn/data-cleaning) course.  You can reference the tutorial at [this link](https://www.kaggle.com/alexisbcook/handling-missing-values).**\n",
    "\n",
    "---\n"
   ]
  },
  {
   "cell_type": "markdown",
   "id": "3a77a5bb",
   "metadata": {
    "papermill": {
     "duration": 0.00967,
     "end_time": "2024-06-30T06:35:08.568333",
     "exception": false,
     "start_time": "2024-06-30T06:35:08.558663",
     "status": "completed"
    },
    "tags": []
   },
   "source": [
    "In this exercise, you'll apply what you learned in the **Handling missing values** tutorial.\n",
    "\n",
    "# Setup\n",
    "\n",
    "The questions below will give you feedback on your work. Run the following cell to set up the feedback system."
   ]
  },
  {
   "cell_type": "code",
   "execution_count": 1,
   "id": "e56bd030",
   "metadata": {
    "execution": {
     "iopub.execute_input": "2024-06-30T06:35:08.588792Z",
     "iopub.status.busy": "2024-06-30T06:35:08.588339Z",
     "iopub.status.idle": "2024-06-30T06:35:17.340153Z",
     "shell.execute_reply": "2024-06-30T06:35:17.338739Z"
    },
    "papermill": {
     "duration": 8.764963,
     "end_time": "2024-06-30T06:35:17.343037",
     "exception": false,
     "start_time": "2024-06-30T06:35:08.578074",
     "status": "completed"
    },
    "tags": []
   },
   "outputs": [
    {
     "name": "stderr",
     "output_type": "stream",
     "text": [
      "/opt/conda/lib/python3.10/site-packages/learntools/data_cleaning/ex1.py:6: DtypeWarning: Columns (22,32) have mixed types. Specify dtype option on import or set low_memory=False.\n",
      "  sf_permits = pd.read_csv(\"../input/building-permit-applications-data/Building_Permits.csv\")\n",
      "/tmp/ipykernel_18/3419995878.py:3: DeprecationWarning: `product` is deprecated as of NumPy 1.25.0, and will be removed in NumPy 2.0. Please use `prod` instead.\n",
      "  from learntools.data_cleaning.ex1 import *\n",
      "/opt/conda/lib/python3.10/site-packages/learntools/data_cleaning/ex1.py:69: FutureWarning: DataFrame.fillna with 'method' is deprecated and will raise in a future version. Use obj.ffill() or obj.bfill() instead.\n",
      "  _expected = sf_permits.fillna(method='bfill', axis=0).fillna(0)\n"
     ]
    },
    {
     "name": "stdout",
     "output_type": "stream",
     "text": [
      "Setup Complete\n"
     ]
    }
   ],
   "source": [
    "from learntools.core import binder\n",
    "binder.bind(globals())\n",
    "from learntools.data_cleaning.ex1 import *\n",
    "print(\"Setup Complete\")"
   ]
  },
  {
   "cell_type": "markdown",
   "id": "b1638555",
   "metadata": {
    "papermill": {
     "duration": 0.009698,
     "end_time": "2024-06-30T06:35:17.363026",
     "exception": false,
     "start_time": "2024-06-30T06:35:17.353328",
     "status": "completed"
    },
    "tags": []
   },
   "source": [
    "# 1) Take a first look at the data\n",
    "\n",
    "Run the next code cell to load in the libraries and dataset you'll use to complete the exercise."
   ]
  },
  {
   "cell_type": "code",
   "execution_count": 2,
   "id": "b82be699",
   "metadata": {
    "execution": {
     "iopub.execute_input": "2024-06-30T06:35:17.384912Z",
     "iopub.status.busy": "2024-06-30T06:35:17.384434Z",
     "iopub.status.idle": "2024-06-30T06:35:20.038979Z",
     "shell.execute_reply": "2024-06-30T06:35:20.037751Z"
    },
    "papermill": {
     "duration": 2.669119,
     "end_time": "2024-06-30T06:35:20.042150",
     "exception": false,
     "start_time": "2024-06-30T06:35:17.373031",
     "status": "completed"
    },
    "tags": []
   },
   "outputs": [
    {
     "name": "stderr",
     "output_type": "stream",
     "text": [
      "/tmp/ipykernel_18/3534875831.py:6: DtypeWarning: Columns (22,32) have mixed types. Specify dtype option on import or set low_memory=False.\n",
      "  sf_permits = pd.read_csv(\"../input/building-permit-applications-data/Building_Permits.csv\")\n"
     ]
    }
   ],
   "source": [
    "# modules we'll use\n",
    "import pandas as pd\n",
    "import numpy as np\n",
    "\n",
    "# read in all our data\n",
    "sf_permits = pd.read_csv(\"../input/building-permit-applications-data/Building_Permits.csv\")\n",
    "\n",
    "# set seed for reproducibility\n",
    "np.random.seed(0) "
   ]
  },
  {
   "cell_type": "markdown",
   "id": "33ac6233",
   "metadata": {
    "papermill": {
     "duration": 0.008944,
     "end_time": "2024-06-30T06:35:20.060366",
     "exception": false,
     "start_time": "2024-06-30T06:35:20.051422",
     "status": "completed"
    },
    "tags": []
   },
   "source": [
    "Use the code cell below to print the first five rows of the `sf_permits` DataFrame."
   ]
  },
  {
   "cell_type": "code",
   "execution_count": 3,
   "id": "67233011",
   "metadata": {
    "execution": {
     "iopub.execute_input": "2024-06-30T06:35:20.080745Z",
     "iopub.status.busy": "2024-06-30T06:35:20.080307Z",
     "iopub.status.idle": "2024-06-30T06:35:20.085657Z",
     "shell.execute_reply": "2024-06-30T06:35:20.084365Z"
    },
    "papermill": {
     "duration": 0.018815,
     "end_time": "2024-06-30T06:35:20.088382",
     "exception": false,
     "start_time": "2024-06-30T06:35:20.069567",
     "status": "completed"
    },
    "tags": []
   },
   "outputs": [],
   "source": [
    "# TODO: Your code here!\n"
   ]
  },
  {
   "cell_type": "markdown",
   "id": "69cd3d4a",
   "metadata": {
    "papermill": {
     "duration": 0.008876,
     "end_time": "2024-06-30T06:35:20.106561",
     "exception": false,
     "start_time": "2024-06-30T06:35:20.097685",
     "status": "completed"
    },
    "tags": []
   },
   "source": [
    "Does the dataset have any missing values?  Once you have an answer, run the code cell below to get credit for your work."
   ]
  },
  {
   "cell_type": "code",
   "execution_count": 4,
   "id": "f2d280ac",
   "metadata": {
    "execution": {
     "iopub.execute_input": "2024-06-30T06:35:20.127095Z",
     "iopub.status.busy": "2024-06-30T06:35:20.126556Z",
     "iopub.status.idle": "2024-06-30T06:35:20.139717Z",
     "shell.execute_reply": "2024-06-30T06:35:20.138367Z"
    },
    "papermill": {
     "duration": 0.026851,
     "end_time": "2024-06-30T06:35:20.142583",
     "exception": false,
     "start_time": "2024-06-30T06:35:20.115732",
     "status": "completed"
    },
    "tags": []
   },
   "outputs": [
    {
     "data": {
      "application/javascript": [
       "parent.postMessage({\"jupyterEvent\": \"custom.exercise_interaction\", \"data\": {\"outcomeType\": 1, \"valueTowardsCompletion\": 0.16666666666666666, \"interactionType\": 1, \"questionType\": 4, \"questionId\": \"1_TakeFirstLook\", \"learnToolsVersion\": \"0.3.4\", \"failureMessage\": \"\", \"exceptionClass\": \"\", \"trace\": \"\"}}, \"*\")"
      ],
      "text/plain": [
       "<IPython.core.display.Javascript object>"
      ]
     },
     "metadata": {},
     "output_type": "display_data"
    },
    {
     "data": {
      "text/markdown": [
       "<span style=\"color:#33cc33\">Correct:</span> \n",
       "\n",
       "The first five rows of the data does show that several columns have missing values.  You can see this in the \"Street Number Suffix\", \"Proposed Construction Type\" and \"Site Permit\" columns, among others."
      ],
      "text/plain": [
       "Correct: \n",
       "\n",
       "The first five rows of the data does show that several columns have missing values.  You can see this in the \"Street Number Suffix\", \"Proposed Construction Type\" and \"Site Permit\" columns, among others."
      ]
     },
     "metadata": {},
     "output_type": "display_data"
    }
   ],
   "source": [
    "# Check your answer (Run this code cell to receive credit!)\n",
    "q1.check()"
   ]
  },
  {
   "cell_type": "code",
   "execution_count": 5,
   "id": "1c18fdd5",
   "metadata": {
    "execution": {
     "iopub.execute_input": "2024-06-30T06:35:20.164423Z",
     "iopub.status.busy": "2024-06-30T06:35:20.163896Z",
     "iopub.status.idle": "2024-06-30T06:35:20.174280Z",
     "shell.execute_reply": "2024-06-30T06:35:20.173191Z"
    },
    "papermill": {
     "duration": 0.025576,
     "end_time": "2024-06-30T06:35:20.178196",
     "exception": false,
     "start_time": "2024-06-30T06:35:20.152620",
     "status": "completed"
    },
    "tags": []
   },
   "outputs": [
    {
     "data": {
      "application/javascript": [
       "parent.postMessage({\"jupyterEvent\": \"custom.exercise_interaction\", \"data\": {\"interactionType\": 2, \"questionType\": 4, \"questionId\": \"1_TakeFirstLook\", \"learnToolsVersion\": \"0.3.4\", \"valueTowardsCompletion\": 0.0, \"failureMessage\": \"\", \"exceptionClass\": \"\", \"trace\": \"\", \"outcomeType\": 4}}, \"*\")"
      ],
      "text/plain": [
       "<IPython.core.display.Javascript object>"
      ]
     },
     "metadata": {},
     "output_type": "display_data"
    },
    {
     "data": {
      "text/markdown": [
       "<span style=\"color:#3366cc\">Hint:</span> Use `sf_permits.head()` to view the first five rows of the data."
      ],
      "text/plain": [
       "Hint: Use `sf_permits.head()` to view the first five rows of the data."
      ]
     },
     "metadata": {},
     "output_type": "display_data"
    }
   ],
   "source": [
    "# Line below will give you a hint\n",
    "q1.hint()"
   ]
  },
  {
   "cell_type": "markdown",
   "id": "fd1a543d",
   "metadata": {
    "papermill": {
     "duration": 0.011533,
     "end_time": "2024-06-30T06:35:20.204374",
     "exception": false,
     "start_time": "2024-06-30T06:35:20.192841",
     "status": "completed"
    },
    "tags": []
   },
   "source": [
    "# 2) How many missing data points do we have?\n",
    "\n",
    "What percentage of the values in the dataset are missing?  Your answer should be a number between 0 and 100.  (If 1/4 of the values in the dataset are missing, the answer is 25.)"
   ]
  },
  {
   "cell_type": "code",
   "execution_count": 6,
   "id": "38fac6ff",
   "metadata": {
    "execution": {
     "iopub.execute_input": "2024-06-30T06:35:20.226412Z",
     "iopub.status.busy": "2024-06-30T06:35:20.225988Z",
     "iopub.status.idle": "2024-06-30T06:35:20.731630Z",
     "shell.execute_reply": "2024-06-30T06:35:20.730419Z"
    },
    "papermill": {
     "duration": 0.520171,
     "end_time": "2024-06-30T06:35:20.734629",
     "exception": false,
     "start_time": "2024-06-30T06:35:20.214458",
     "status": "completed"
    },
    "tags": []
   },
   "outputs": [
    {
     "data": {
      "application/javascript": [
       "parent.postMessage({\"jupyterEvent\": \"custom.exercise_interaction\", \"data\": {\"outcomeType\": 2, \"failureMessage\": \"Expected `percent_missing` to be a number, but had value `Permit Number                                  0\\nPermit Type                                    0\\nPermit Type Definition                         0\\nPermit Creation Date                           0\\nBlock                                          0\\nLot                                            0\\nStreet Number                                  0\\nStreet Number Suffix                      196684\\nStreet Name                                    0\\nStreet Suffix                               2768\\nUnit                                      169421\\nUnit Suffix                               196939\\nDescription                                  290\\nCurrent Status                                 0\\nCurrent Status Date                            0\\nFiled Date                                     0\\nIssued Date                                14940\\nCompleted Date                            101709\\nFirst Construction Document Date           14946\\nStructural Notification                   191978\\nNumber of Existing Stories                 42784\\nNumber of Proposed Stories                 42868\\nVoluntary Soft-Story Retrofit             198865\\nFire Only Permit                          180073\\nPermit Expiration Date                     51880\\nEstimated Cost                             38066\\nRevised Cost                                6066\\nExisting Use                               41114\\nExisting Units                             51538\\nProposed Use                               42439\\nProposed Units                             50911\\nPlansets                                   37309\\nTIDF Compliance                           198898\\nExisting Construction Type                 43366\\nExisting Construction Type Description     43366\\nProposed Construction Type                 43162\\nProposed Construction Type Description     43162\\nSite Permit                               193541\\nSupervisor District                         1717\\nNeighborhoods - Analysis Boundaries         1725\\nZipcode                                     1716\\nLocation                                    1700\\nRecord ID                                      0\\ndtype: int64` (type = `Series`)\", \"interactionType\": 1, \"questionType\": 1, \"questionId\": \"2_PercentMissingValues\", \"learnToolsVersion\": \"0.3.4\", \"valueTowardsCompletion\": 0.0, \"exceptionClass\": \"\", \"trace\": \"\"}}, \"*\")"
      ],
      "text/plain": [
       "<IPython.core.display.Javascript object>"
      ]
     },
     "metadata": {},
     "output_type": "display_data"
    },
    {
     "data": {
      "text/markdown": [
       "<span style=\"color:#cc3333\">Incorrect:</span> Expected `percent_missing` to be a number, but had value `Permit Number                                  0\n",
       "Permit Type                                    0\n",
       "Permit Type Definition                         0\n",
       "Permit Creation Date                           0\n",
       "Block                                          0\n",
       "Lot                                            0\n",
       "Street Number                                  0\n",
       "Street Number Suffix                      196684\n",
       "Street Name                                    0\n",
       "Street Suffix                               2768\n",
       "Unit                                      169421\n",
       "Unit Suffix                               196939\n",
       "Description                                  290\n",
       "Current Status                                 0\n",
       "Current Status Date                            0\n",
       "Filed Date                                     0\n",
       "Issued Date                                14940\n",
       "Completed Date                            101709\n",
       "First Construction Document Date           14946\n",
       "Structural Notification                   191978\n",
       "Number of Existing Stories                 42784\n",
       "Number of Proposed Stories                 42868\n",
       "Voluntary Soft-Story Retrofit             198865\n",
       "Fire Only Permit                          180073\n",
       "Permit Expiration Date                     51880\n",
       "Estimated Cost                             38066\n",
       "Revised Cost                                6066\n",
       "Existing Use                               41114\n",
       "Existing Units                             51538\n",
       "Proposed Use                               42439\n",
       "Proposed Units                             50911\n",
       "Plansets                                   37309\n",
       "TIDF Compliance                           198898\n",
       "Existing Construction Type                 43366\n",
       "Existing Construction Type Description     43366\n",
       "Proposed Construction Type                 43162\n",
       "Proposed Construction Type Description     43162\n",
       "Site Permit                               193541\n",
       "Supervisor District                         1717\n",
       "Neighborhoods - Analysis Boundaries         1725\n",
       "Zipcode                                     1716\n",
       "Location                                    1700\n",
       "Record ID                                      0\n",
       "dtype: int64` (type = `Series`)"
      ],
      "text/plain": [
       "Incorrect: Expected `percent_missing` to be a number, but had value `Permit Number                                  0\n",
       "Permit Type                                    0\n",
       "Permit Type Definition                         0\n",
       "Permit Creation Date                           0\n",
       "Block                                          0\n",
       "Lot                                            0\n",
       "Street Number                                  0\n",
       "Street Number Suffix                      196684\n",
       "Street Name                                    0\n",
       "Street Suffix                               2768\n",
       "Unit                                      169421\n",
       "Unit Suffix                               196939\n",
       "Description                                  290\n",
       "Current Status                                 0\n",
       "Current Status Date                            0\n",
       "Filed Date                                     0\n",
       "Issued Date                                14940\n",
       "Completed Date                            101709\n",
       "First Construction Document Date           14946\n",
       "Structural Notification                   191978\n",
       "Number of Existing Stories                 42784\n",
       "Number of Proposed Stories                 42868\n",
       "Voluntary Soft-Story Retrofit             198865\n",
       "Fire Only Permit                          180073\n",
       "Permit Expiration Date                     51880\n",
       "Estimated Cost                             38066\n",
       "Revised Cost                                6066\n",
       "Existing Use                               41114\n",
       "Existing Units                             51538\n",
       "Proposed Use                               42439\n",
       "Proposed Units                             50911\n",
       "Plansets                                   37309\n",
       "TIDF Compliance                           198898\n",
       "Existing Construction Type                 43366\n",
       "Existing Construction Type Description     43366\n",
       "Proposed Construction Type                 43162\n",
       "Proposed Construction Type Description     43162\n",
       "Site Permit                               193541\n",
       "Supervisor District                         1717\n",
       "Neighborhoods - Analysis Boundaries         1725\n",
       "Zipcode                                     1716\n",
       "Location                                    1700\n",
       "Record ID                                      0\n",
       "dtype: int64` (type = `Series`)"
      ]
     },
     "metadata": {},
     "output_type": "display_data"
    }
   ],
   "source": [
    "# TODO: Your code here!\n",
    "percent_missing = sf_permits.isnull().sum()\n",
    "\n",
    "# Check your answer\n",
    "q2.check()"
   ]
  },
  {
   "cell_type": "code",
   "execution_count": 7,
   "id": "c3779f28",
   "metadata": {
    "execution": {
     "iopub.execute_input": "2024-06-30T06:35:20.758671Z",
     "iopub.status.busy": "2024-06-30T06:35:20.758245Z",
     "iopub.status.idle": "2024-06-30T06:35:20.763832Z",
     "shell.execute_reply": "2024-06-30T06:35:20.762615Z"
    },
    "papermill": {
     "duration": 0.021929,
     "end_time": "2024-06-30T06:35:20.766972",
     "exception": false,
     "start_time": "2024-06-30T06:35:20.745043",
     "status": "completed"
    },
    "tags": []
   },
   "outputs": [],
   "source": [
    "# Lines below will give you a hint or solution code\n",
    "#q2.hint()\n",
    "#q2.solution()"
   ]
  },
  {
   "cell_type": "markdown",
   "id": "229ba8b0",
   "metadata": {
    "papermill": {
     "duration": 0.009988,
     "end_time": "2024-06-30T06:35:20.787368",
     "exception": false,
     "start_time": "2024-06-30T06:35:20.777380",
     "status": "completed"
    },
    "tags": []
   },
   "source": [
    "# 3) Figure out why the data is missing\n",
    "\n",
    "Look at the columns **\"Street Number Suffix\"** and **\"Zipcode\"** from the [San Francisco Building Permits dataset](https://www.kaggle.com/aparnashastry/building-permit-applications-data). Both of these contain missing values. \n",
    "- Which, if either, are missing because they don't exist? \n",
    "- Which, if either, are missing because they weren't recorded?  \n",
    "\n",
    "Once you have an answer, run the code cell below."
   ]
  },
  {
   "cell_type": "code",
   "execution_count": 8,
   "id": "a9b74421",
   "metadata": {
    "execution": {
     "iopub.execute_input": "2024-06-30T06:35:20.810586Z",
     "iopub.status.busy": "2024-06-30T06:35:20.809828Z",
     "iopub.status.idle": "2024-06-30T06:35:20.819659Z",
     "shell.execute_reply": "2024-06-30T06:35:20.818381Z"
    },
    "papermill": {
     "duration": 0.024415,
     "end_time": "2024-06-30T06:35:20.822425",
     "exception": false,
     "start_time": "2024-06-30T06:35:20.798010",
     "status": "completed"
    },
    "tags": []
   },
   "outputs": [
    {
     "data": {
      "application/javascript": [
       "parent.postMessage({\"jupyterEvent\": \"custom.exercise_interaction\", \"data\": {\"outcomeType\": 1, \"valueTowardsCompletion\": 0.16666666666666666, \"interactionType\": 1, \"questionType\": 4, \"questionId\": \"3_WhyDataMissing\", \"learnToolsVersion\": \"0.3.4\", \"failureMessage\": \"\", \"exceptionClass\": \"\", \"trace\": \"\"}}, \"*\")"
      ],
      "text/plain": [
       "<IPython.core.display.Javascript object>"
      ]
     },
     "metadata": {},
     "output_type": "display_data"
    },
    {
     "data": {
      "text/markdown": [
       "<span style=\"color:#33cc33\">Correct:</span> \n",
       "\n",
       "If a value in the \"Street Number Suffix\" column is missing, it is likely because it does not exist. If a value in the \"Zipcode\" column is missing, it was not recorded."
      ],
      "text/plain": [
       "Correct: \n",
       "\n",
       "If a value in the \"Street Number Suffix\" column is missing, it is likely because it does not exist. If a value in the \"Zipcode\" column is missing, it was not recorded."
      ]
     },
     "metadata": {},
     "output_type": "display_data"
    }
   ],
   "source": [
    "# Check your answer (Run this code cell to receive credit!)\n",
    "q3.check()"
   ]
  },
  {
   "cell_type": "code",
   "execution_count": 9,
   "id": "834452ac",
   "metadata": {
    "execution": {
     "iopub.execute_input": "2024-06-30T06:35:20.846205Z",
     "iopub.status.busy": "2024-06-30T06:35:20.845731Z",
     "iopub.status.idle": "2024-06-30T06:35:20.850760Z",
     "shell.execute_reply": "2024-06-30T06:35:20.849478Z"
    },
    "papermill": {
     "duration": 0.021136,
     "end_time": "2024-06-30T06:35:20.854305",
     "exception": false,
     "start_time": "2024-06-30T06:35:20.833169",
     "status": "completed"
    },
    "tags": []
   },
   "outputs": [],
   "source": [
    "# Line below will give you a hint\n",
    "#q3.hint()"
   ]
  },
  {
   "cell_type": "markdown",
   "id": "4e336bb5",
   "metadata": {
    "papermill": {
     "duration": 0.010769,
     "end_time": "2024-06-30T06:35:20.877324",
     "exception": false,
     "start_time": "2024-06-30T06:35:20.866555",
     "status": "completed"
    },
    "tags": []
   },
   "source": [
    "# 4) Drop missing values: rows\n",
    "\n",
    "If you removed all of the rows of `sf_permits` with missing values, how many rows are left?\n",
    "\n",
    "**Note**: Do not change the value of `sf_permits` when checking this.  "
   ]
  },
  {
   "cell_type": "code",
   "execution_count": 10,
   "id": "b00b8e6c",
   "metadata": {
    "execution": {
     "iopub.execute_input": "2024-06-30T06:35:20.901238Z",
     "iopub.status.busy": "2024-06-30T06:35:20.900844Z",
     "iopub.status.idle": "2024-06-30T06:35:20.905971Z",
     "shell.execute_reply": "2024-06-30T06:35:20.904785Z"
    },
    "papermill": {
     "duration": 0.020434,
     "end_time": "2024-06-30T06:35:20.908625",
     "exception": false,
     "start_time": "2024-06-30T06:35:20.888191",
     "status": "completed"
    },
    "tags": []
   },
   "outputs": [],
   "source": [
    "# TODO: Your code here!\n"
   ]
  },
  {
   "cell_type": "markdown",
   "id": "0576089e",
   "metadata": {
    "papermill": {
     "duration": 0.011148,
     "end_time": "2024-06-30T06:35:20.931730",
     "exception": false,
     "start_time": "2024-06-30T06:35:20.920582",
     "status": "completed"
    },
    "tags": []
   },
   "source": [
    "Once you have an answer, run the code cell below."
   ]
  },
  {
   "cell_type": "code",
   "execution_count": 11,
   "id": "8d0c13ac",
   "metadata": {
    "execution": {
     "iopub.execute_input": "2024-06-30T06:35:20.955392Z",
     "iopub.status.busy": "2024-06-30T06:35:20.954942Z",
     "iopub.status.idle": "2024-06-30T06:35:20.964884Z",
     "shell.execute_reply": "2024-06-30T06:35:20.963485Z"
    },
    "papermill": {
     "duration": 0.024933,
     "end_time": "2024-06-30T06:35:20.967550",
     "exception": false,
     "start_time": "2024-06-30T06:35:20.942617",
     "status": "completed"
    },
    "tags": []
   },
   "outputs": [
    {
     "data": {
      "application/javascript": [
       "parent.postMessage({\"jupyterEvent\": \"custom.exercise_interaction\", \"data\": {\"outcomeType\": 1, \"valueTowardsCompletion\": 0.16666666666666666, \"interactionType\": 1, \"questionType\": 4, \"questionId\": \"4_DropMissingRows\", \"learnToolsVersion\": \"0.3.4\", \"failureMessage\": \"\", \"exceptionClass\": \"\", \"trace\": \"\"}}, \"*\")"
      ],
      "text/plain": [
       "<IPython.core.display.Javascript object>"
      ]
     },
     "metadata": {},
     "output_type": "display_data"
    },
    {
     "data": {
      "text/markdown": [
       "<span style=\"color:#33cc33\">Correct:</span> \n",
       "\n",
       "There are no rows remaining in the dataset!"
      ],
      "text/plain": [
       "Correct: \n",
       "\n",
       "There are no rows remaining in the dataset!"
      ]
     },
     "metadata": {},
     "output_type": "display_data"
    }
   ],
   "source": [
    "# Check your answer (Run this code cell to receive credit!)\n",
    "q4.check()"
   ]
  },
  {
   "cell_type": "code",
   "execution_count": 12,
   "id": "b114f36f",
   "metadata": {
    "execution": {
     "iopub.execute_input": "2024-06-30T06:35:20.991915Z",
     "iopub.status.busy": "2024-06-30T06:35:20.991519Z",
     "iopub.status.idle": "2024-06-30T06:35:20.996545Z",
     "shell.execute_reply": "2024-06-30T06:35:20.995283Z"
    },
    "papermill": {
     "duration": 0.020059,
     "end_time": "2024-06-30T06:35:20.999113",
     "exception": false,
     "start_time": "2024-06-30T06:35:20.979054",
     "status": "completed"
    },
    "tags": []
   },
   "outputs": [],
   "source": [
    "# Line below will give you a hint\n",
    "#q4.hint()"
   ]
  },
  {
   "cell_type": "markdown",
   "id": "ed748926",
   "metadata": {
    "papermill": {
     "duration": 0.010631,
     "end_time": "2024-06-30T06:35:21.020860",
     "exception": false,
     "start_time": "2024-06-30T06:35:21.010229",
     "status": "completed"
    },
    "tags": []
   },
   "source": [
    "# 5) Drop missing values: columns\n",
    "\n",
    "Now try removing all the columns with empty values.  \n",
    "- Create a new DataFrame called `sf_permits_with_na_dropped` that has all of the columns with empty values removed.  \n",
    "- How many columns were removed from the original `sf_permits` DataFrame? Use this number to set the value of the `dropped_columns` variable below."
   ]
  },
  {
   "cell_type": "code",
   "execution_count": 13,
   "id": "85c45110",
   "metadata": {
    "execution": {
     "iopub.execute_input": "2024-06-30T06:35:21.045429Z",
     "iopub.status.busy": "2024-06-30T06:35:21.045023Z",
     "iopub.status.idle": "2024-06-30T06:35:21.556510Z",
     "shell.execute_reply": "2024-06-30T06:35:21.555436Z"
    },
    "papermill": {
     "duration": 0.527201,
     "end_time": "2024-06-30T06:35:21.559131",
     "exception": false,
     "start_time": "2024-06-30T06:35:21.031930",
     "status": "completed"
    },
    "tags": []
   },
   "outputs": [
    {
     "data": {
      "application/javascript": [
       "parent.postMessage({\"jupyterEvent\": \"custom.exercise_interaction\", \"data\": {\"outcomeType\": 1, \"valueTowardsCompletion\": 0.16666666666666666, \"interactionType\": 1, \"questionType\": 1, \"questionId\": \"5_DropMissingCols\", \"learnToolsVersion\": \"0.3.4\", \"failureMessage\": \"\", \"exceptionClass\": \"\", \"trace\": \"\"}}, \"*\")"
      ],
      "text/plain": [
       "<IPython.core.display.Javascript object>"
      ]
     },
     "metadata": {},
     "output_type": "display_data"
    },
    {
     "data": {
      "text/markdown": [
       "<span style=\"color:#33cc33\">Correct</span>"
      ],
      "text/plain": [
       "Correct"
      ]
     },
     "metadata": {},
     "output_type": "display_data"
    }
   ],
   "source": [
    "# TODO: Your code here\n",
    "sf_permits_with_na_dropped = sf_permits.dropna(axis=1)\n",
    "\n",
    "cols_in_original_dataset = sf_permits.shape[1]\n",
    "cols_in_na_dropped = sf_permits_with_na_dropped.shape[1]\n",
    "\n",
    "dropped_columns = cols_in_original_dataset - cols_in_na_dropped\n",
    "\n",
    "# Check your answer\n",
    "q5.check()"
   ]
  },
  {
   "cell_type": "code",
   "execution_count": 14,
   "id": "1ce29b06",
   "metadata": {
    "execution": {
     "iopub.execute_input": "2024-06-30T06:35:21.583555Z",
     "iopub.status.busy": "2024-06-30T06:35:21.583169Z",
     "iopub.status.idle": "2024-06-30T06:35:21.588217Z",
     "shell.execute_reply": "2024-06-30T06:35:21.586871Z"
    },
    "papermill": {
     "duration": 0.020306,
     "end_time": "2024-06-30T06:35:21.590738",
     "exception": false,
     "start_time": "2024-06-30T06:35:21.570432",
     "status": "completed"
    },
    "tags": []
   },
   "outputs": [],
   "source": [
    "# Lines below will give you a hint or solution code\n",
    "#q5.hint()\n",
    "\n",
    "#q5.solution()"
   ]
  },
  {
   "cell_type": "markdown",
   "id": "d0325e31",
   "metadata": {
    "papermill": {
     "duration": 0.01142,
     "end_time": "2024-06-30T06:35:21.613880",
     "exception": false,
     "start_time": "2024-06-30T06:35:21.602460",
     "status": "completed"
    },
    "tags": []
   },
   "source": [
    "# 6) Fill in missing values automatically\n",
    "\n",
    "Try replacing all the NaN's in the `sf_permits` data with the one that comes directly after it and then replacing any remaining NaN's with 0.  Set the result to a new DataFrame `sf_permits_with_na_imputed`."
   ]
  },
  {
   "cell_type": "code",
   "execution_count": 15,
   "id": "1c2d3aeb",
   "metadata": {
    "execution": {
     "iopub.execute_input": "2024-06-30T06:35:21.638641Z",
     "iopub.status.busy": "2024-06-30T06:35:21.638275Z",
     "iopub.status.idle": "2024-06-30T06:35:24.621393Z",
     "shell.execute_reply": "2024-06-30T06:35:24.619487Z"
    },
    "papermill": {
     "duration": 3.000203,
     "end_time": "2024-06-30T06:35:24.625744",
     "exception": false,
     "start_time": "2024-06-30T06:35:21.625541",
     "status": "completed"
    },
    "tags": []
   },
   "outputs": [
    {
     "name": "stderr",
     "output_type": "stream",
     "text": [
      "/tmp/ipykernel_18/3167686981.py:2: FutureWarning: DataFrame.fillna with 'method' is deprecated and will raise in a future version. Use obj.ffill() or obj.bfill() instead.\n",
      "  sf_permits_with_na_imputed = sf_permits.fillna(method='bfill', axis=0).fillna(0)\n"
     ]
    },
    {
     "data": {
      "application/javascript": [
       "parent.postMessage({\"jupyterEvent\": \"custom.exercise_interaction\", \"data\": {\"outcomeType\": 1, \"valueTowardsCompletion\": 0.16666666666666666, \"interactionType\": 1, \"questionType\": 1, \"questionId\": \"6_ImputeAutomatically\", \"learnToolsVersion\": \"0.3.4\", \"failureMessage\": \"\", \"exceptionClass\": \"\", \"trace\": \"\"}}, \"*\")"
      ],
      "text/plain": [
       "<IPython.core.display.Javascript object>"
      ]
     },
     "metadata": {},
     "output_type": "display_data"
    },
    {
     "data": {
      "text/markdown": [
       "<span style=\"color:#33cc33\">Correct</span>"
      ],
      "text/plain": [
       "Correct"
      ]
     },
     "metadata": {},
     "output_type": "display_data"
    }
   ],
   "source": [
    "# TODO: Your code here\n",
    "sf_permits_with_na_imputed = sf_permits.fillna(method='bfill', axis=0).fillna(0)\n",
    "\n",
    "# Check your answer\n",
    "q6.check()"
   ]
  },
  {
   "cell_type": "code",
   "execution_count": 16,
   "id": "f8cf6085",
   "metadata": {
    "execution": {
     "iopub.execute_input": "2024-06-30T06:35:24.662564Z",
     "iopub.status.busy": "2024-06-30T06:35:24.662138Z",
     "iopub.status.idle": "2024-06-30T06:35:24.667325Z",
     "shell.execute_reply": "2024-06-30T06:35:24.666118Z"
    },
    "papermill": {
     "duration": 0.028325,
     "end_time": "2024-06-30T06:35:24.669833",
     "exception": false,
     "start_time": "2024-06-30T06:35:24.641508",
     "status": "completed"
    },
    "tags": []
   },
   "outputs": [],
   "source": [
    "# Lines below will give you a hint or solution code\n",
    "#q6.hint()\n",
    "#q6.solution()"
   ]
  },
  {
   "cell_type": "markdown",
   "id": "1934f9c0",
   "metadata": {
    "papermill": {
     "duration": 0.011678,
     "end_time": "2024-06-30T06:35:24.693643",
     "exception": false,
     "start_time": "2024-06-30T06:35:24.681965",
     "status": "completed"
    },
    "tags": []
   },
   "source": [
    "# More practice\n",
    "\n",
    "If you're looking for more practice handling missing values:\n",
    "\n",
    "* Check out [this noteboook](https://www.kaggle.com/alexisbcook/missing-values) on handling missing values using scikit-learn's imputer. \n",
    "* Look back at the \"Zipcode\" column in the `sf_permits` dataset, which has some missing values. How would you go about figuring out what the actual zipcode of each address should be? (You might try using another dataset. You can search for datasets about San Fransisco on the [Datasets listing](https://www.kaggle.com/datasets).) \n",
    "\n",
    "# Keep going\n",
    "\n",
    "In the next lesson, learn how to [**apply scaling and normalization**](https://www.kaggle.com/alexisbcook/scaling-and-normalization) to transform your data."
   ]
  },
  {
   "cell_type": "markdown",
   "id": "eeb6504b",
   "metadata": {
    "papermill": {
     "duration": 0.01152,
     "end_time": "2024-06-30T06:35:24.717245",
     "exception": false,
     "start_time": "2024-06-30T06:35:24.705725",
     "status": "completed"
    },
    "tags": []
   },
   "source": [
    "---\n",
    "\n",
    "\n",
    "\n",
    "\n",
    "*Have questions or comments? Visit the [course discussion forum](https://www.kaggle.com/learn/data-cleaning/discussion) to chat with other learners.*"
   ]
  }
 ],
 "metadata": {
  "kaggle": {
   "accelerator": "none",
   "dataSources": [
    {
     "datasetId": 16432,
     "sourceId": 21688,
     "sourceType": "datasetVersion"
    }
   ],
   "isGpuEnabled": false,
   "isInternetEnabled": false,
   "language": "python",
   "sourceType": "notebook"
  },
  "kernelspec": {
   "display_name": "Python 3",
   "language": "python",
   "name": "python3"
  },
  "language_info": {
   "codemirror_mode": {
    "name": "ipython",
    "version": 3
   },
   "file_extension": ".py",
   "mimetype": "text/x-python",
   "name": "python",
   "nbconvert_exporter": "python",
   "pygments_lexer": "ipython3",
   "version": "3.10.13"
  },
  "papermill": {
   "default_parameters": {},
   "duration": 20.217861,
   "end_time": "2024-06-30T06:35:25.452887",
   "environment_variables": {},
   "exception": null,
   "input_path": "__notebook__.ipynb",
   "output_path": "__notebook__.ipynb",
   "parameters": {},
   "start_time": "2024-06-30T06:35:05.235026",
   "version": "2.5.0"
  }
 },
 "nbformat": 4,
 "nbformat_minor": 5
}
